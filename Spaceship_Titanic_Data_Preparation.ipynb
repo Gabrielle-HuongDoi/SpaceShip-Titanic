{
  "nbformat": 4,
  "nbformat_minor": 0,
  "metadata": {
    "colab": {
      "provenance": [],
      "collapsed_sections": [
        "4GOx_4Ul9OkU",
        "KZThaU_FKO8q",
        "suAfn2otqDNE",
        "syJZwDWp7w12",
        "P9liQujL2Gcu",
        "shPYUH_P_SWE",
        "aafRvKpPZHkI",
        "hrQO5AB6Z-PU",
        "yzmAaPX2PRnm",
        "z0wqbDkuyxoj"
      ]
    },
    "kernelspec": {
      "name": "python3",
      "display_name": "Python 3"
    },
    "language_info": {
      "name": "python"
    }
  },
  "cells": [
    {
      "cell_type": "markdown",
      "source": [
        "## <center> SPACESHIP TITANIC \n",
        "### <center> DATA PREPARATION\n",
        "\n"
      ],
      "metadata": {
        "id": "6oVnWxcfOQWF"
      }
    },
    {
      "cell_type": "code",
      "source": [
        "import pandas as pd\n",
        "import numpy as np\n",
        "import matplotlib.pyplot as plt\n",
        "import seaborn as sns\n",
        "\n",
        "# Display format\n",
        "pd.options.display.max_rows = 20\n",
        "pd.options.display.max_columns = 15\n",
        "%matplotlib inline"
      ],
      "metadata": {
        "id": "03h-KozWO6Ei"
      },
      "execution_count": null,
      "outputs": []
    },
    {
      "cell_type": "code",
      "execution_count": null,
      "metadata": {
        "id": "thcmh3koMj05"
      },
      "outputs": [],
      "source": [
        "from google.colab import files\n",
        "upload = files.upload()"
      ]
    },
    {
      "cell_type": "code",
      "source": [
        "train = pd.read_csv('train_transform.csv', index_col=False)\n",
        "test = pd.read_csv('test_transform.csv', index_col= False)\n",
        "\n",
        "print('Nunber of columns: {}, number of rows: {}\\n'.format(train.shape[1], train.shape[0]))\n",
        "print('Train features:\\n', train.columns)"
      ],
      "metadata": {
        "colab": {
          "base_uri": "https://localhost:8080/"
        },
        "id": "jCJ8LqyUO7rj",
        "outputId": "0a8692a6-83c2-4ada-d40f-a32725dd5e37"
      },
      "execution_count": null,
      "outputs": [
        {
          "output_type": "stream",
          "name": "stdout",
          "text": [
            "Nunber of columns: 21, number of rows: 8693\n",
            "\n",
            "Train features:\n",
            " Index(['PassengerId', 'HomePlanet', 'CryoSleep', 'Cabin', 'Destination', 'Age',\n",
            "       'VIP', 'RoomService', 'FoodCourt', 'ShoppingMall', 'Spa', 'VRDeck',\n",
            "       'Name', 'Transported', 'GroupID', 'GroupSize', 'InPerson', 'CabinDeck',\n",
            "       'CabinNumber', 'CabinSide', 'Surname'],\n",
            "      dtype='object')\n"
          ]
        }
      ]
    },
    {
      "cell_type": "markdown",
      "source": [
        "> ### 1. MISSING VALUES"
      ],
      "metadata": {
        "id": "-qwiiAzpXxrP"
      }
    },
    {
      "cell_type": "markdown",
      "source": [
        "> > #### 1.1. GENERAL\n",
        "\n",
        "The first step I would like to do is filling in the missing values. As the EDA, the missing values for each feature take account for 2-2.5% of rows which is quite small.\n",
        "\n",
        "However, if we take number of null values for each passerger, it is at approx 25% of travelers have at least 1 missing variable.\n",
        "\n",
        "Also, we need to figure out whether there is a relationship of missing values and the targets."
      ],
      "metadata": {
        "id": "4GOx_4Ul9OkU"
      }
    },
    {
      "cell_type": "code",
      "source": [
        "### Plot the missing value distribution\n",
        "NA_data = train.copy()\n",
        "NA_data['NA'] = NA_data.isna().sum(axis = 1)\n",
        "\n",
        "fig = plt.figure(figsize = (10, 6))\n",
        "sns.countplot(data = NA_data, x = 'NA', hue = 'Transported')\n",
        "sns.despine(bottom = False, left = False)\n",
        "plt.title('Missing Value Distribution')\n",
        "\n",
        "plt.show()"
      ],
      "metadata": {
        "colab": {
          "base_uri": "https://localhost:8080/",
          "height": 404
        },
        "id": "uXq-rxb8c78v",
        "outputId": "0f8d24cd-66da-47d7-a445-6563331344ac"
      },
      "execution_count": null,
      "outputs": [
        {
          "output_type": "display_data",
          "data": {
            "text/plain": [
              "<Figure size 720x432 with 1 Axes>"
            ],
            "image/png": "[encoded data removed]"
          },
          "metadata": {
            "needs_background": "light"
          }
        }
      ]
    },
    {
      "cell_type": "markdown",
      "source": [
        "It seems that the number of missing values per passenger is indenpendent on the target.\n",
        "\n",
        "\n",
        "<br>\n",
        "\n",
        "The easiest way to deal with missing values is to just use the median for continuous features and the mode for categorical features. This will work 'well enough' but if we want to maximize the accuracy of the models, it is better to find out the same patterns of features, e.g. same family surname - same home planet, same group - same destination? Then choose the best estimated missing values."
      ],
      "metadata": {
        "id": "_cRIh0qxeDi1"
      }
    },
    {
      "cell_type": "code",
      "source": [
        "### Combine train set and test set to have a full dataset for the imputation\n",
        "\n",
        "a = train.loc[:, ~train.columns.isin(['Transported'])]\n",
        "df = pd.concat([a, test], ignore_index = True)"
      ],
      "metadata": {
        "id": "DYKYzHPCIUKj"
      },
      "execution_count": null,
      "outputs": []
    },
    {
      "cell_type": "markdown",
      "source": [
        "<br>\n",
        "<br>\n",
        "\n",
        "> > #### *1.2. HOMEPLANET*\n",
        "> > > Same Group - Same Planet?"
      ],
      "metadata": {
        "id": "KZThaU_FKO8q"
      }
    },
    {
      "cell_type": "code",
      "source": [
        "### Joint distribution of Group and HomePlanet\n",
        "group_home = df.groupby(['GroupID', 'HomePlanet']).size()  # Number of passengers have same groupID and same HomePlanet\n",
        "group_home = group_home.unstack(level = -1)   #Return dataframe with columns of HomePlanet\n",
        "\n",
        "group_home.head()"
      ],
      "metadata": {
        "colab": {
          "base_uri": "https://localhost:8080/",
          "height": 237
        },
        "id": "Ww4LBr3OKrc5",
        "outputId": "84f13373-2717-4764-db88-61e6a548e4cb"
      },
      "execution_count": null,
      "outputs": [
        {
          "output_type": "execute_result",
          "data": {
            "text/plain": [
              "HomePlanet  Earth  Europa  Mars\n",
              "GroupID                        \n",
              "1             NaN     1.0   NaN\n",
              "2             1.0     NaN   NaN\n",
              "3             NaN     2.0   NaN\n",
              "4             1.0     NaN   NaN\n",
              "5             1.0     NaN   NaN"
            ],
            "text/html": [
              "\n",
              "  <div id=\"df-7807263f-fa3e-4ab0-93e4-b8d6f64b2075\">\n",
              "    <div class=\"colab-df-container\">\n",
              "      <div>\n",
              "<style scoped>\n",
              "    .dataframe tbody tr th:only-of-type {\n",
              "        vertical-align: middle;\n",
              "    }\n",
              "\n",
              "    .dataframe tbody tr th {\n",
              "        vertical-align: top;\n",
              "    }\n",
              "\n",
              "    .dataframe thead th {\n",
              "        text-align: right;\n",
              "    }\n",
              "</style>\n",
              "<table border=\"1\" class=\"dataframe\">\n",
              "  <thead>\n",
              "    <tr style=\"text-align: right;\">\n",
              "      <th>HomePlanet</th>\n",
              "      <th>Earth</th>\n",
              "      <th>Europa</th>\n",
              "      <th>Mars</th>\n",
              "    </tr>\n",
              "    <tr>\n",
              "      <th>GroupID</th>\n",
              "      <th></th>\n",
              "      <th></th>\n",
              "      <th></th>\n",
              "    </tr>\n",
              "  </thead>\n",
              "  <tbody>\n",
              "    <tr>\n",
              "      <th>1</th>\n",
              "      <td>NaN</td>\n",
              "      <td>1.0</td>\n",
              "      <td>NaN</td>\n",
              "    </tr>\n",
              "    <tr>\n",
              "      <th>2</th>\n",
              "      <td>1.0</td>\n",
              "      <td>NaN</td>\n",
              "      <td>NaN</td>\n",
              "    </tr>\n",
              "    <tr>\n",
              "      <th>3</th>\n",
              "      <td>NaN</td>\n",
              "      <td>2.0</td>\n",
              "      <td>NaN</td>\n",
              "    </tr>\n",
              "    <tr>\n",
              "      <th>4</th>\n",
              "      <td>1.0</td>\n",
              "      <td>NaN</td>\n",
              "      <td>NaN</td>\n",
              "    </tr>\n",
              "    <tr>\n",
              "      <th>5</th>\n",
              "      <td>1.0</td>\n",
              "      <td>NaN</td>\n",
              "      <td>NaN</td>\n",
              "    </tr>\n",
              "  </tbody>\n",
              "</table>\n",
              "</div>\n",
              "      <button class=\"colab-df-convert\" onclick=\"convertToInteractive('df-7807263f-fa3e-4ab0-93e4-b8d6f64b2075')\"\n",
              "              title=\"Convert this dataframe to an interactive table.\"\n",
              "              style=\"display:none;\">\n",
              "        \n",
              "  <svg xmlns=\"http://www.w3.org/2000/svg\" height=\"24px\"viewBox=\"0 0 24 24\"\n",
              "       width=\"24px\">\n",
              "    <path d=\"M0 0h24v24H0V0z\" fill=\"none\"/>\n",
              "    <path d=\"M18.56 5.44l.94 2.06.94-2.06 2.06-.94-2.06-.94-.94-2.06-.94 2.06-2.06.94zm-11 1L8.5 8.5l.94-2.06 2.06-.94-2.06-.94L8.5 2.5l-.94 2.06-2.06.94zm10 10l.94 2.06.94-2.06 2.06-.94-2.06-.94-.94-2.06-.94 2.06-2.06.94z\"/><path d=\"M17.41 7.96l-1.37-1.37c-.4-.4-.92-.59-1.43-.59-.52 0-1.04.2-1.43.59L10.3 9.45l-7.72 7.72c-.78.78-.78 2.05 0 2.83L4 21.41c.39.39.9.59 1.41.59.51 0 1.02-.2 1.41-.59l7.78-7.78 2.81-2.81c.8-.78.8-2.07 0-2.86zM5.41 20L4 18.59l7.72-7.72 1.47 1.35L5.41 20z\"/>\n",
              "  </svg>\n",
              "      </button>\n",
              "      \n",
              "  <style>\n",
              "    .colab-df-container {\n",
              "      display:flex;\n",
              "      flex-wrap:wrap;\n",
              "      gap: 12px;\n",
              "    }\n",
              "\n",
              "    .colab-df-convert {\n",
              "      background-color: #E8F0FE;\n",
              "      border: none;\n",
              "      border-radius: 50%;\n",
              "      cursor: pointer;\n",
              "      display: none;\n",
              "      fill: #1967D2;\n",
              "      height: 32px;\n",
              "      padding: 0 0 0 0;\n",
              "      width: 32px;\n",
              "    }\n",
              "\n",
              "    .colab-df-convert:hover {\n",
              "      background-color: #E2EBFA;\n",
              "      box-shadow: 0px 1px 2px rgba(60, 64, 67, 0.3), 0px 1px 3px 1px rgba(60, 64, 67, 0.15);\n",
              "      fill: #174EA6;\n",
              "    }\n",
              "\n",
              "    [theme=dark] .colab-df-convert {\n",
              "      background-color: #3B4455;\n",
              "      fill: #D2E3FC;\n",
              "    }\n",
              "\n",
              "    [theme=dark] .colab-df-convert:hover {\n",
              "      background-color: #434B5C;\n",
              "      box-shadow: 0px 1px 3px 1px rgba(0, 0, 0, 0.15);\n",
              "      filter: drop-shadow(0px 1px 2px rgba(0, 0, 0, 0.3));\n",
              "      fill: #FFFFFF;\n",
              "    }\n",
              "  </style>\n",
              "\n",
              "      <script>\n",
              "        const buttonEl =\n",
              "          document.querySelector('#df-7807263f-fa3e-4ab0-93e4-b8d6f64b2075 button.colab-df-convert');\n",
              "        buttonEl.style.display =\n",
              "          google.colab.kernel.accessAllowed ? 'block' : 'none';\n",
              "\n",
              "        async function convertToInteractive(key) {\n",
              "          const element = document.querySelector('#df-7807263f-fa3e-4ab0-93e4-b8d6f64b2075');\n",
              "          const dataTable =\n",
              "            await google.colab.kernel.invokeFunction('convertToInteractive',\n",
              "                                                     [key], {});\n",
              "          if (!dataTable) return;\n",
              "\n",
              "          const docLinkHtml = 'Like what you see? Visit the ' +\n",
              "            '<a target=\"_blank\" href=https://colab.research.google.com/notebooks/data_table.ipynb>data table notebook</a>'\n",
              "            + ' to learn more about interactive tables.';\n",
              "          element.innerHTML = '';\n",
              "          dataTable['output_type'] = 'display_data';\n",
              "          await google.colab.output.renderOutput(dataTable, element);\n",
              "          const docLink = document.createElement('div');\n",
              "          docLink.innerHTML = docLinkHtml;\n",
              "          element.appendChild(docLink);\n",
              "        }\n",
              "      </script>\n",
              "    </div>\n",
              "  </div>\n",
              "  "
            ]
          },
          "metadata": {},
          "execution_count": 113
        }
      ]
    },
    {
      "cell_type": "code",
      "source": [
        "### Now, we will check every entry has value > 1, if sum(entry > 0, axis = 1) = 1, that means passengers in a group come from \n",
        "### a same home planet. Then it is easy to fill in the missing value.\n",
        "### If that sum > 1, that means in a group, there are at least 2 passengers from 2 different home planets\n",
        "\n",
        "print('Number of unique HomePlanet in a group: ')\n",
        "(group_home > 0).sum(axis = 1).value_counts()"
      ],
      "metadata": {
        "colab": {
          "base_uri": "https://localhost:8080/"
        },
        "id": "udgqt3jky_8D",
        "outputId": "fff4e1c8-61d8-449e-8a45-a8c4e50332a7"
      },
      "execution_count": null,
      "outputs": [
        {
          "output_type": "stream",
          "name": "stdout",
          "text": [
            "Number of unique HomePlanet in a group: \n"
          ]
        },
        {
          "output_type": "execute_result",
          "data": {
            "text/plain": [
              "1    9124\n",
              "dtype: int64"
            ]
          },
          "metadata": {},
          "execution_count": 114
        }
      ]
    },
    {
      "cell_type": "markdown",
      "source": [
        "GREAT! So every passenger comes from a same group will have a same home planet. \n",
        "\n",
        "Then, if a passenger travels in group, we can find out their HomePlanet missing values"
      ],
      "metadata": {
        "id": "3O1hFuy97JmK"
      }
    },
    {
      "cell_type": "code",
      "source": [
        "# group_homeplanet = group_homeplanet.stack().reset_index()\n",
        "\n",
        "### Number of missing values \n",
        "home_NA = df['HomePlanet'].isna().sum()\n",
        "\n",
        "\n",
        "### passengers have no homeplanet\n",
        "home_index = df[df['HomePlanet'].isna()]\n",
        "\n",
        "### passengers have no homeplanet but they travel with groups\n",
        "home_index = home_index[home_index['GroupID'].isin(group_home.index)].index\n",
        "\n",
        "\n",
        "### Filling corresponding missing values\n",
        "df.loc[home_index, 'HomePlanet'] = df.iloc[home_index, :]['GroupID'].map(lambda x: group_home.idxmax(axis = 1)[x])\n",
        "\n",
        "\n",
        "# Check the number of missing values before and after the imputation\n",
        "print('Number of missing values in HomePlanet before filling based on GroupID: {}'.format(home_NA))\n",
        "print('Number of missing value in HomePlanet after filling based on GroupID: {}'.format(df['HomePlanet'].isna().sum()))"
      ],
      "metadata": {
        "id": "b_DtYxBT7w4x",
        "colab": {
          "base_uri": "https://localhost:8080/"
        },
        "outputId": "f5695212-c7cd-4bd5-ab1d-eff95707a27c"
      },
      "execution_count": null,
      "outputs": [
        {
          "output_type": "stream",
          "name": "stdout",
          "text": [
            "Number of missing values in HomePlanet before filling based on GroupID: 288\n",
            "Number of missing value in HomePlanet after filling based on GroupID: 157\n"
          ]
        }
      ]
    },
    {
      "cell_type": "markdown",
      "source": [
        "<br>\n",
        "\n",
        "> > > Same Cabin Deck - Same HomePlanet?"
      ],
      "metadata": {
        "id": "I0RibNohy8ZS"
      }
    },
    {
      "cell_type": "code",
      "source": [
        "### Joint-distribution of Cabin Deck and HomePlanet\n",
        "cabin_home = df.copy()\n",
        "cabin_home = cabin_home.groupby(['CabinDeck', 'HomePlanet']).size()\n",
        "cabin_home = cabin_home.unstack()\n",
        "\n",
        "## Heatmap of missing values\n",
        "plt.figure(figsize = (10, 4))\n",
        "sns.heatmap(data = cabin_home.T, annot = True, fmt = 'n', cmap = 'coolwarm')"
      ],
      "metadata": {
        "colab": {
          "base_uri": "https://localhost:8080/",
          "height": 297
        },
        "id": "8dy5xF_Azu2o",
        "outputId": "18b08028-c653-459a-b8ee-a4861e198d91"
      },
      "execution_count": null,
      "outputs": [
        {
          "output_type": "execute_result",
          "data": {
            "text/plain": [
              "<matplotlib.axes._subplots.AxesSubplot at 0x7fce4f1869d0>"
            ]
          },
          "metadata": {},
          "execution_count": 116
        },
        {
          "output_type": "display_data",
          "data": {
            "text/plain": [
              "<Figure size 720x288 with 2 Axes>"
            ],
            "image/png": "[encoded data removed]"
          },
          "metadata": {
            "needs_background": "light"
          }
        }
      ]
    },
    {
      "cell_type": "markdown",
      "source": [
        "*Insights*:\n",
        "  - A, B, C, T: only Europa people\n",
        "  - G: only Earth people\n",
        "  - D, E, F: mixed\n"
      ],
      "metadata": {
        "id": "0S0gs8I32Iwh"
      }
    },
    {
      "cell_type": "code",
      "source": [
        "### Passenger in A, B, C and T decks\n",
        "cabin_index1 = df[(df['HomePlanet'].isna()) & ( df['CabinDeck'].isin(['A', 'B', 'C', 'T']))].index\n",
        "df.loc[cabin_index1, 'HomePlanet'] = 'Europa'\n",
        "\n",
        "### Passengers in G deck\n",
        "cabin_index2 = df[(df['HomePlanet'].isna()) & ( df['CabinDeck']== 'G')].index\n",
        "df.loc[cabin_index2, 'HomePlanet'] = 'Earth'\n",
        "\n",
        "print('Number of missing values in HomePlanet after filling based on Cabin Deck: {}'.format(df['HomePlanet'].isna().sum()))"
      ],
      "metadata": {
        "colab": {
          "base_uri": "https://localhost:8080/"
        },
        "id": "-VlB5yey2kGI",
        "outputId": "5fad5cd7-e714-481e-ea69-c9d54cd2be6e"
      },
      "execution_count": null,
      "outputs": [
        {
          "output_type": "stream",
          "name": "stdout",
          "text": [
            "Number of missing values in HomePlanet after filling based on Cabin Deck: 94\n"
          ]
        }
      ]
    },
    {
      "cell_type": "markdown",
      "source": [
        "<br>\n",
        "\n",
        "> > > Same Surname - Same HomePlanet?"
      ],
      "metadata": {
        "id": "0By4JKZ36D03"
      }
    },
    {
      "cell_type": "code",
      "source": [
        "name_home = df.copy().groupby(['Surname', 'HomePlanet'])['HomePlanet'].size()\n",
        "name_home = name_home.unstack()\n",
        "\n",
        "# How many homeplanet in a surname\n",
        "print('Number of unique HomePlanets in a surname:')\n",
        "(name_home > 0).sum(axis = 1).value_counts()"
      ],
      "metadata": {
        "colab": {
          "base_uri": "https://localhost:8080/"
        },
        "id": "DHJp8vO6Jm4m",
        "outputId": "1b8924f3-ee5a-4939-eeee-d117001603d3"
      },
      "execution_count": null,
      "outputs": [
        {
          "output_type": "stream",
          "name": "stdout",
          "text": [
            "Number of unique HomePlanets in a surname:\n"
          ]
        },
        {
          "output_type": "execute_result",
          "data": {
            "text/plain": [
              "1    2402\n",
              "dtype: int64"
            ]
          },
          "metadata": {},
          "execution_count": 118
        }
      ]
    },
    {
      "cell_type": "markdown",
      "source": [
        "WONDERFUL! All passengers sharing a surname come from the same HomePlanet"
      ],
      "metadata": {
        "id": "u4_6eUYpQMI8"
      }
    },
    {
      "cell_type": "code",
      "source": [
        "surname_index = df[df['HomePlanet'].isna()]\n",
        "surname_index = surname_index[surname_index['Surname'].isin(name_home.index)].index\n",
        "\n",
        "df.loc[surname_index, 'HomePlanet'] = df.iloc[surname_index, :]['Surname'].map(lambda x: name_home.idxmax(axis = 1)[x])\n",
        "\n",
        "print('Number of missing values in HomePlanet after filling based on Surname is {}'.format(df['HomePlanet'].isna().sum()))"
      ],
      "metadata": {
        "colab": {
          "base_uri": "https://localhost:8080/"
        },
        "id": "DugNW9EWQrcA",
        "outputId": "b4df3189-e10c-413d-c52f-3efedb0bb20f"
      },
      "execution_count": null,
      "outputs": [
        {
          "output_type": "stream",
          "name": "stdout",
          "text": [
            "Number of missing values in HomePlanet after filling based on Surname is 10\n"
          ]
        }
      ]
    },
    {
      "cell_type": "markdown",
      "source": [
        "<br>\n",
        "\n",
        "Great! Now there are only 10 missing values in HomePlanet. Let's take a look at 10 passengers"
      ],
      "metadata": {
        "id": "4WLkY6V2SSyc"
      }
    },
    {
      "cell_type": "code",
      "source": [
        "df.loc[df['HomePlanet'].isna(), ['PassengerId', 'HomePlanet', 'Destination', 'CabinDeck']]"
      ],
      "metadata": {
        "colab": {
          "base_uri": "https://localhost:8080/",
          "height": 363
        },
        "id": "cYkl3xLgSgg7",
        "outputId": "84b6ac56-f63f-41fb-9577-2c80fcc336f6"
      },
      "execution_count": null,
      "outputs": [
        {
          "output_type": "execute_result",
          "data": {
            "text/plain": [
              "      PassengerId HomePlanet  Destination CabinDeck\n",
              "2274      2443_01        NaN  TRAPPIST-1e         D\n",
              "2631      2817_01        NaN  TRAPPIST-1e         F\n",
              "3091      3331_01        NaN  TRAPPIST-1e         F\n",
              "4548      4840_01        NaN  TRAPPIST-1e         F\n",
              "5762      6108_01        NaN  TRAPPIST-1e         F\n",
              "8969      0616_01        NaN  TRAPPIST-1e         E\n",
              "10583     4052_01        NaN  TRAPPIST-1e         D\n",
              "11913     7065_01        NaN  TRAPPIST-1e         E\n",
              "12551     8435_01        NaN  TRAPPIST-1e         F\n",
              "12725     8775_01        NaN  TRAPPIST-1e         D"
            ],
            "text/html": [
              "\n",
              "  <div id=\"df-f3e01b8a-463d-430e-9dde-f7dd22e7dd57\">\n",
              "    <div class=\"colab-df-container\">\n",
              "      <div>\n",
              "<style scoped>\n",
              "    .dataframe tbody tr th:only-of-type {\n",
              "        vertical-align: middle;\n",
              "    }\n",
              "\n",
              "    .dataframe tbody tr th {\n",
              "        vertical-align: top;\n",
              "    }\n",
              "\n",
              "    .dataframe thead th {\n",
              "        text-align: right;\n",
              "    }\n",
              "</style>\n",
              "<table border=\"1\" class=\"dataframe\">\n",
              "  <thead>\n",
              "    <tr style=\"text-align: right;\">\n",
              "      <th></th>\n",
              "      <th>PassengerId</th>\n",
              "      <th>HomePlanet</th>\n",
              "      <th>Destination</th>\n",
              "      <th>CabinDeck</th>\n",
              "    </tr>\n",
              "  </thead>\n",
              "  <tbody>\n",
              "    <tr>\n",
              "      <th>2274</th>\n",
              "      <td>2443_01</td>\n",
              "      <td>NaN</td>\n",
              "      <td>TRAPPIST-1e</td>\n",
              "      <td>D</td>\n",
              "    </tr>\n",
              "    <tr>\n",
              "      <th>2631</th>\n",
              "      <td>2817_01</td>\n",
              "      <td>NaN</td>\n",
              "      <td>TRAPPIST-1e</td>\n",
              "      <td>F</td>\n",
              "    </tr>\n",
              "    <tr>\n",
              "      <th>3091</th>\n",
              "      <td>3331_01</td>\n",
              "      <td>NaN</td>\n",
              "      <td>TRAPPIST-1e</td>\n",
              "      <td>F</td>\n",
              "    </tr>\n",
              "    <tr>\n",
              "      <th>4548</th>\n",
              "      <td>4840_01</td>\n",
              "      <td>NaN</td>\n",
              "      <td>TRAPPIST-1e</td>\n",
              "      <td>F</td>\n",
              "    </tr>\n",
              "    <tr>\n",
              "      <th>5762</th>\n",
              "      <td>6108_01</td>\n",
              "      <td>NaN</td>\n",
              "      <td>TRAPPIST-1e</td>\n",
              "      <td>F</td>\n",
              "    </tr>\n",
              "    <tr>\n",
              "      <th>8969</th>\n",
              "      <td>0616_01</td>\n",
              "      <td>NaN</td>\n",
              "      <td>TRAPPIST-1e</td>\n",
              "      <td>E</td>\n",
              "    </tr>\n",
              "    <tr>\n",
              "      <th>10583</th>\n",
              "      <td>4052_01</td>\n",
              "      <td>NaN</td>\n",
              "      <td>TRAPPIST-1e</td>\n",
              "      <td>D</td>\n",
              "    </tr>\n",
              "    <tr>\n",
              "      <th>11913</th>\n",
              "      <td>7065_01</td>\n",
              "      <td>NaN</td>\n",
              "      <td>TRAPPIST-1e</td>\n",
              "      <td>E</td>\n",
              "    </tr>\n",
              "    <tr>\n",
              "      <th>12551</th>\n",
              "      <td>8435_01</td>\n",
              "      <td>NaN</td>\n",
              "      <td>TRAPPIST-1e</td>\n",
              "      <td>F</td>\n",
              "    </tr>\n",
              "    <tr>\n",
              "      <th>12725</th>\n",
              "      <td>8775_01</td>\n",
              "      <td>NaN</td>\n",
              "      <td>TRAPPIST-1e</td>\n",
              "      <td>D</td>\n",
              "    </tr>\n",
              "  </tbody>\n",
              "</table>\n",
              "</div>\n",
              "      <button class=\"colab-df-convert\" onclick=\"convertToInteractive('df-f3e01b8a-463d-430e-9dde-f7dd22e7dd57')\"\n",
              "              title=\"Convert this dataframe to an interactive table.\"\n",
              "              style=\"display:none;\">\n",
              "        \n",
              "  <svg xmlns=\"http://www.w3.org/2000/svg\" height=\"24px\"viewBox=\"0 0 24 24\"\n",
              "       width=\"24px\">\n",
              "    <path d=\"M0 0h24v24H0V0z\" fill=\"none\"/>\n",
              "    <path d=\"M18.56 5.44l.94 2.06.94-2.06 2.06-.94-2.06-.94-.94-2.06-.94 2.06-2.06.94zm-11 1L8.5 8.5l.94-2.06 2.06-.94-2.06-.94L8.5 2.5l-.94 2.06-2.06.94zm10 10l.94 2.06.94-2.06 2.06-.94-2.06-.94-.94-2.06-.94 2.06-2.06.94z\"/><path d=\"M17.41 7.96l-1.37-1.37c-.4-.4-.92-.59-1.43-.59-.52 0-1.04.2-1.43.59L10.3 9.45l-7.72 7.72c-.78.78-.78 2.05 0 2.83L4 21.41c.39.39.9.59 1.41.59.51 0 1.02-.2 1.41-.59l7.78-7.78 2.81-2.81c.8-.78.8-2.07 0-2.86zM5.41 20L4 18.59l7.72-7.72 1.47 1.35L5.41 20z\"/>\n",
              "  </svg>\n",
              "      </button>\n",
              "      \n",
              "  <style>\n",
              "    .colab-df-container {\n",
              "      display:flex;\n",
              "      flex-wrap:wrap;\n",
              "      gap: 12px;\n",
              "    }\n",
              "\n",
              "    .colab-df-convert {\n",
              "      background-color: #E8F0FE;\n",
              "      border: none;\n",
              "      border-radius: 50%;\n",
              "      cursor: pointer;\n",
              "      display: none;\n",
              "      fill: #1967D2;\n",
              "      height: 32px;\n",
              "      padding: 0 0 0 0;\n",
              "      width: 32px;\n",
              "    }\n",
              "\n",
              "    .colab-df-convert:hover {\n",
              "      background-color: #E2EBFA;\n",
              "      box-shadow: 0px 1px 2px rgba(60, 64, 67, 0.3), 0px 1px 3px 1px rgba(60, 64, 67, 0.15);\n",
              "      fill: #174EA6;\n",
              "    }\n",
              "\n",
              "    [theme=dark] .colab-df-convert {\n",
              "      background-color: #3B4455;\n",
              "      fill: #D2E3FC;\n",
              "    }\n",
              "\n",
              "    [theme=dark] .colab-df-convert:hover {\n",
              "      background-color: #434B5C;\n",
              "      box-shadow: 0px 1px 3px 1px rgba(0, 0, 0, 0.15);\n",
              "      filter: drop-shadow(0px 1px 2px rgba(0, 0, 0, 0.3));\n",
              "      fill: #FFFFFF;\n",
              "    }\n",
              "  </style>\n",
              "\n",
              "      <script>\n",
              "        const buttonEl =\n",
              "          document.querySelector('#df-f3e01b8a-463d-430e-9dde-f7dd22e7dd57 button.colab-df-convert');\n",
              "        buttonEl.style.display =\n",
              "          google.colab.kernel.accessAllowed ? 'block' : 'none';\n",
              "\n",
              "        async function convertToInteractive(key) {\n",
              "          const element = document.querySelector('#df-f3e01b8a-463d-430e-9dde-f7dd22e7dd57');\n",
              "          const dataTable =\n",
              "            await google.colab.kernel.invokeFunction('convertToInteractive',\n",
              "                                                     [key], {});\n",
              "          if (!dataTable) return;\n",
              "\n",
              "          const docLinkHtml = 'Like what you see? Visit the ' +\n",
              "            '<a target=\"_blank\" href=https://colab.research.google.com/notebooks/data_table.ipynb>data table notebook</a>'\n",
              "            + ' to learn more about interactive tables.';\n",
              "          element.innerHTML = '';\n",
              "          dataTable['output_type'] = 'display_data';\n",
              "          await google.colab.output.renderOutput(dataTable, element);\n",
              "          const docLink = document.createElement('div');\n",
              "          docLink.innerHTML = docLinkHtml;\n",
              "          element.appendChild(docLink);\n",
              "        }\n",
              "      </script>\n",
              "    </div>\n",
              "  </div>\n",
              "  "
            ]
          },
          "metadata": {},
          "execution_count": 125
        }
      ]
    },
    {
      "cell_type": "markdown",
      "source": [
        "Alright, It seems that they arrive in the same destination. Let's check the joint-distribution of HomePlanet and Destination"
      ],
      "metadata": {
        "id": "DywOKuavTG8c"
      }
    },
    {
      "cell_type": "code",
      "source": [
        "dest_home = df.copy().groupby(['Destination', 'HomePlanet']).size()\n",
        "dest_home = dest_home.unstack()\n",
        "\n",
        "### Plot\n",
        "plt.figure(figsize = (10, 4))\n",
        "sns.heatmap(data = dest_home.T, cmap = 'coolwarm', annot = True, fmt = 'g')"
      ],
      "metadata": {
        "colab": {
          "base_uri": "https://localhost:8080/",
          "height": 297
        },
        "id": "vC-MjTVVTZ8N",
        "outputId": "73fbf564-b64f-418b-f716-c912893d0aea"
      },
      "execution_count": null,
      "outputs": [
        {
          "output_type": "execute_result",
          "data": {
            "text/plain": [
              "<matplotlib.axes._subplots.AxesSubplot at 0x7fce4fc07a90>"
            ]
          },
          "metadata": {},
          "execution_count": 124
        },
        {
          "output_type": "display_data",
          "data": {
            "text/plain": [
              "<Figure size 720x288 with 2 Axes>"
            ],
            "image/png": "[encoded data removed]"
          },
          "metadata": {
            "needs_background": "light"
          }
        }
      ]
    },
    {
      "cell_type": "markdown",
      "source": [
        "<br>\n",
        "\n",
        "Most people moving to TRAPPIST-1e are from the Earth. So we can replace the missing HomePlanet by 'Earth' for cabin deck E, F while passengers on deck D are from Mars. Because deck D has no passengers from the Earth as we did the analysis before"
      ],
      "metadata": {
        "id": "sym1KhDRUX1D"
      }
    },
    {
      "cell_type": "code",
      "source": [
        "### For passengers on deck E, F\n",
        "dest_index1 = df[(df['HomePlanet'].isna()) & (df['CabinDeck'].isin(['E', 'F']))].index\n",
        "df.loc[dest_index1, 'HomePlanet'] = 'Earth'\n",
        "\n",
        "### For passengers on deck D\n",
        "dest_index2 = df[(df['HomePlanet'].isna()) & (df['CabinDeck'] == 'D')].index\n",
        "df.loc[dest_index2, 'HomePlanet'] = 'Mars'\n",
        "\n",
        "print('The number of missing HomePlanet after filling based on destination is {}'.format(df['HomePlanet'].isna().sum()))"
      ],
      "metadata": {
        "colab": {
          "base_uri": "https://localhost:8080/"
        },
        "id": "mYvXjQmeVHEu",
        "outputId": "82771b7b-dd9c-4564-e1e1-ee4a7d3cde47"
      },
      "execution_count": null,
      "outputs": [
        {
          "output_type": "stream",
          "name": "stdout",
          "text": [
            "The number of missing HomePlanet after filling based on destination is 0\n"
          ]
        }
      ]
    },
    {
      "cell_type": "markdown",
      "source": [
        "<br>\n",
        "\n",
        "FANTASTIC! We have done with HomePlanet missing values"
      ],
      "metadata": {
        "id": "a7v2Syd0XMKC"
      }
    },
    {
      "cell_type": "markdown",
      "source": [
        "> > #### *1.3. DESTINATION*"
      ],
      "metadata": {
        "id": "suAfn2otqDNE"
      }
    },
    {
      "cell_type": "code",
      "source": [
        "### plot\n",
        "plt.figure(figsize = (10, 4))\n",
        "ax = sns.countplot(data = df, x = 'Destination')\n",
        "sns.despine(bottom = False, left = False)\n",
        "plt.ylim([0, 10000])\n",
        "for p in ax.patches:\n",
        "  ax.annotate('{}'.format(p.get_height()), (p.get_x()+0.3, p.get_height() + 500),size = 16)"
      ],
      "metadata": {
        "colab": {
          "base_uri": "https://localhost:8080/",
          "height": 283
        },
        "id": "rPWdX8d4-qZk",
        "outputId": "4fec1ad4-21db-4bde-bcf1-5ad07563ca9f"
      },
      "execution_count": null,
      "outputs": [
        {
          "output_type": "display_data",
          "data": {
            "text/plain": [
              "<Figure size 720x288 with 1 Axes>"
            ],
            "image/png": "[encoded data removed]"
          },
          "metadata": {
            "needs_background": "light"
          }
        }
      ]
    },
    {
      "cell_type": "markdown",
      "source": [
        "2/3 passengers arrive to TRAPPIST-1e.\n",
        "\n",
        "We will check the relationship of destination and groupID/surname/cabin. "
      ],
      "metadata": {
        "id": "4ttvzoPFzZJo"
      }
    },
    {
      "cell_type": "code",
      "source": [
        "### Check if all members in group have the same destination\n",
        "print('Number of unique destinations in a group')\n",
        "dest_group = df.copy().groupby(['GroupID', 'Destination']).size().unstack()\n",
        "print((dest_group > 0).sum(axis = 1).value_counts())\n",
        "\n",
        "\n",
        "### Check if all members in a family have the same destination\n",
        "print('\\nNumber of unique destinations in a family')\n",
        "dest_name = df.copy().groupby(['Surname', 'Destination']).size().unstack()\n",
        "print((dest_name > 0).sum(axis = 1).value_counts())\n",
        "\n",
        "\n",
        "### Check if all passengers in a cabin deck have the same destination\n",
        "print('\\nNumber of unique destinations in a cabin deck')\n",
        "dest_deck = df.copy().groupby(['CabinDeck', 'Destination']).size().unstack()\n",
        "print((dest_deck > 0).sum(axis = 1).value_counts())"
      ],
      "metadata": {
        "colab": {
          "base_uri": "https://localhost:8080/"
        },
        "id": "iF9u1sTpq-7U",
        "outputId": "ca8a5b58-84dd-406a-af5c-9baac9d848f7"
      },
      "execution_count": null,
      "outputs": [
        {
          "output_type": "stream",
          "name": "stdout",
          "text": [
            "Number of unique destinations in a group\n",
            "1    8056\n",
            "2     997\n",
            "3      73\n",
            "dtype: int64\n",
            "\n",
            "Number of unique destinations in a family\n",
            "2    1194\n",
            "1     766\n",
            "3     442\n",
            "dtype: int64\n",
            "\n",
            "Number of unique destinations in a cabin deck\n",
            "3    7\n",
            "2    1\n",
            "dtype: int64\n"
          ]
        }
      ]
    },
    {
      "cell_type": "markdown",
      "source": [
        "It seems that the destination does not share unique patterns to GroupID, Surname and Cabin Deck. Thus, we will filling the destination NA values by its mode - TRAPPIST-1e"
      ],
      "metadata": {
        "id": "lfQ2wQ6cqfYr"
      }
    },
    {
      "cell_type": "code",
      "source": [
        "df.loc[df[df['Destination'].isna()].index, 'Destination'] = 'TRAPPIST-1e'\n",
        "print('Number of destination missing values is {}'.format(df['Destination'].isna().sum()))"
      ],
      "metadata": {
        "colab": {
          "base_uri": "https://localhost:8080/"
        },
        "id": "tji9w7op12F2",
        "outputId": "acda4ddb-f013-4a99-9460-43bde074a303"
      },
      "execution_count": null,
      "outputs": [
        {
          "output_type": "stream",
          "name": "stdout",
          "text": [
            "Number of destination missing values is 0\n"
          ]
        }
      ]
    },
    {
      "cell_type": "markdown",
      "source": [
        "> > #### 1.4. SURNAME"
      ],
      "metadata": {
        "id": "syJZwDWp7w12"
      }
    },
    {
      "cell_type": "markdown",
      "source": [
        "The reason we are filling missing surnames is because we will use surnames later to fill missing values of other features. It also means we can improve the accuracy of the family size feature.\n",
        "\n",
        "> > > Same Group - Same Surname?"
      ],
      "metadata": {
        "id": "wEeEeXvg9eYL"
      }
    },
    {
      "cell_type": "code",
      "source": [
        "### Joint distribution of GroupID and Surname\n",
        "group_name = df[df['GroupSize'] > 1].groupby(['GroupID', 'Surname']).size().unstack()\n",
        "\n",
        "\n",
        "plt.figure(figsize = (10, 4))\n",
        "ax = sns.countplot((group_name > 0).sum(axis = 1))\n",
        "sns.despine(bottom = False, left = False)\n",
        "plt.ylim([0, 2000])\n",
        "for p in ax.patches:\n",
        "  ax.annotate('{}'.format(p.get_height()), (p.get_x()+0.3, p.get_height()+100),size = 12)\n",
        "  # ax.annotate('{}'.format(p.get_height()), (p.get_x()+0.3, p.get_height() + 500),size = 16)\n",
        "\n"
      ],
      "metadata": {
        "colab": {
          "base_uri": "https://localhost:8080/",
          "height": 325
        },
        "id": "40GCNa0H9r__",
        "outputId": "894af7c8-a10d-4d66-c6c9-15f4c624b760"
      },
      "execution_count": null,
      "outputs": [
        {
          "output_type": "stream",
          "name": "stderr",
          "text": [
            "/usr/local/lib/python3.7/dist-packages/seaborn/_decorators.py:43: FutureWarning: Pass the following variable as a keyword arg: x. From version 0.12, the only valid positional argument will be `data`, and passing other arguments without an explicit keyword will result in an error or misinterpretation.\n",
            "  FutureWarning\n"
          ]
        },
        {
          "output_type": "display_data",
          "data": {
            "text/plain": [
              "<Figure size 720x288 with 1 Axes>"
            ],
            "image/png": "[encoded data removed]"
          },
          "metadata": {
            "needs_background": "light"
          }
        }
      ]
    },
    {
      "cell_type": "markdown",
      "source": [
        "Majority of groups consist a surname. We can fill in the surname NA values by the most frequent surname in the group"
      ],
      "metadata": {
        "id": "UswyFy4WB1a5"
      }
    },
    {
      "cell_type": "code",
      "source": [
        "### Get passengers have no Surname but travel in group\n",
        "surname_index = df[df['Surname'].isna()]\n",
        "surname_index = surname_index[surname_index['GroupID'].isin(group_name.index)].index\n",
        "\n",
        "### Filling surname missing values\n",
        "df.loc[surname_index, 'Surname'] = df.iloc[surname_index, :]['GroupID'].map(lambda x: group_name.idxmax(axis = 1)[x])\n",
        "\n",
        "print('Number of Surname missing values left is {}'.format(df['Surname'].isna().sum()))"
      ],
      "metadata": {
        "colab": {
          "base_uri": "https://localhost:8080/"
        },
        "id": "HoBTuTeyCgRi",
        "outputId": "4945c08b-de41-4b0b-971d-f17996fa5aa6"
      },
      "execution_count": null,
      "outputs": [
        {
          "output_type": "stream",
          "name": "stdout",
          "text": [
            "Number of Surname missing values left is 155\n"
          ]
        }
      ]
    },
    {
      "cell_type": "markdown",
      "source": [
        "> > #### *1.5. CABIN SIDE*"
      ],
      "metadata": {
        "id": "P9liQujL2Gcu"
      }
    },
    {
      "cell_type": "markdown",
      "source": [
        "> > > Same Group - Same Cabin side?"
      ],
      "metadata": {
        "id": "zLhbHqKo8bi0"
      }
    },
    {
      "cell_type": "code",
      "source": [
        "### Joint Distribution of GroupID and Cabin deck\n",
        "group_cabindeck = df[df['GroupSize'] > 1].groupby(['GroupID', 'CabinDeck']).size().unstack()\n",
        "group_cabindeck['size'] = (group_cabindeck >0).sum(axis = 1)\n",
        "\n",
        "### Joint Distribution of GroupID and Cabin number\n",
        "group_cabinno = df[df['GroupSize'] > 1].groupby(['GroupID', 'CabinNumber']).size().unstack()\n",
        "group_cabinno['size'] = (group_cabinno >0).sum(axis = 1)\n",
        "\n",
        "### Joint Distribution of GroupID and Cabin side\n",
        "group_side = df[df['GroupSize'] > 1].groupby(['GroupID', 'CabinSide']).size().unstack()\n",
        "group_side['size'] = (group_side >0).sum(axis = 1)\n",
        "\n",
        "### Plot\n",
        "figures = plt.figure(figsize =(15, 4))\n",
        "\n",
        "ax1 = figures.add_subplot(1, 3, 1)\n",
        "sns.countplot(data = group_cabindeck, x = 'size')\n",
        "sns.despine(bottom = False, left = False)\n",
        "ax1.set(title = 'Number of Unique Cabin Decks in a group', xlabel ='# cabin decks')\n",
        "\n",
        "ax2 = figures.add_subplot(1, 3, 2)\n",
        "sns.countplot(data = group_cabinno, x = 'size')\n",
        "sns.despine(bottom = False, left = False)\n",
        "ax2.set(title = 'Number of Unique Cabin Numbers in a group', xlabel = '# cabin numbers')\n",
        "\n",
        "ax3 = figures.add_subplot(1, 3, 3)\n",
        "sns.countplot(data = group_side, x = 'size')\n",
        "sns.despine(bottom = False, left = False)\n",
        "ax3.set(title = 'Number of Unique Cabin Sides in a group', xlabel = '# cabin sides')"
      ],
      "metadata": {
        "colab": {
          "base_uri": "https://localhost:8080/",
          "height": 331
        },
        "id": "giSDrNUu2m9g",
        "outputId": "76e5aabb-06c5-4753-cebc-81f55b95a56c"
      },
      "execution_count": null,
      "outputs": [
        {
          "output_type": "execute_result",
          "data": {
            "text/plain": [
              "[Text(0.5, 0, '# cabin sides'),\n",
              " Text(0.5, 1.0, 'Number of Unique Cabin Sides in a group')]"
            ]
          },
          "metadata": {},
          "execution_count": 27
        },
        {
          "output_type": "display_data",
          "data": {
            "text/plain": [
              "<Figure size 1080x288 with 3 Axes>"
            ],
            "image/png": "[encoded data removed]"
          },
          "metadata": {
            "needs_background": "light"
          }
        }
      ]
    },
    {
      "cell_type": "markdown",
      "source": [
        "Only CabinSide depends on groupID, CabinNumber and CabinDecks have a fairly good but not perfect correlation with groupID.\n",
        "\n",
        "Then we fill in the CabinSide missing values first."
      ],
      "metadata": {
        "id": "ep0qxJ3d5zs0"
      }
    },
    {
      "cell_type": "code",
      "source": [
        "group_side.drop(columns = 'size', inplace =True)\n",
        "\n",
        "### filling missing values based on groupID\n",
        "cabinside_idx = df[df['CabinSide'].isna()]\n",
        "cabinside_idx = cabinside_idx[cabinside_idx['GroupID'].isin(group_side.index)].index\n",
        "\n",
        "df.loc[cabinside_idx, 'CabinSide'] = df.iloc[cabinside_idx, :]['GroupID'].map(lambda x: group_side.idxmax(axis = 1)[x])\n",
        "\n",
        "print('Nunber of CabinSide missing values left is {}'.format(df['CabinSide'].isna().sum()))"
      ],
      "metadata": {
        "colab": {
          "base_uri": "https://localhost:8080/"
        },
        "id": "C5jINQg660Ck",
        "outputId": "b87b5317-a3e2-4722-bf84-648302db4098"
      },
      "execution_count": null,
      "outputs": [
        {
          "output_type": "stream",
          "name": "stdout",
          "text": [
            "Nunber of CabinSide missing values left is 162\n"
          ]
        }
      ]
    },
    {
      "cell_type": "markdown",
      "source": [
        "> > > Same Surname - Same Cabin Side?"
      ],
      "metadata": {
        "id": "vLjsX1Bd8kkK"
      }
    },
    {
      "cell_type": "code",
      "source": [
        "### Joint distribution of surname and cabin side\n",
        "name_side = df[df['GroupSize'] > 1].groupby(['Surname', 'CabinSide']).size().unstack()\n",
        "name_side['size'] = (name_side>0).sum(axis = 1)\n",
        "\n",
        "print('Number of families is in the same Cabin side: {0} ({1:.2f}%)'.format(len(name_side[name_side['size'] ==1]), \n",
        "                                                                        len(name_side[name_side['size'] == 1])/len(name_side)*100))\n"
      ],
      "metadata": {
        "colab": {
          "base_uri": "https://localhost:8080/"
        },
        "id": "TA0BmJw08qJS",
        "outputId": "be4664ef-1390-453f-e362-2fc7efb57a64"
      },
      "execution_count": null,
      "outputs": [
        {
          "output_type": "stream",
          "name": "stdout",
          "text": [
            "Number of families is in the same Cabin side: 1251 (76.70%)\n"
          ]
        }
      ]
    },
    {
      "cell_type": "markdown",
      "source": [
        "This shows that most families tend to stay in the same cabin side."
      ],
      "metadata": {
        "id": "JfNR59ydCqK3"
      }
    },
    {
      "cell_type": "code",
      "source": [
        "name_side.drop(columns = 'size', inplace = True)\n",
        "\n",
        "### Fliing the missing values by the surnames\n",
        "name_side_idx = df[df['CabinSide'].isna()]\n",
        "name_side_idx = name_side_idx[name_side_idx['Surname'].isin(name_side.index)].index\n",
        "\n",
        "df.loc[name_side_idx, 'CabinSide'] = df.iloc[name_side_idx, :]['Surname'].map(lambda x: name_side.idxmax(axis = 1)[x])\n",
        "\n",
        "print('Number of CabinSide missing values left is {}'.format(df['CabinSide'].isna().sum()))"
      ],
      "metadata": {
        "colab": {
          "base_uri": "https://localhost:8080/"
        },
        "id": "K60vA75jC_Sx",
        "outputId": "d042c595-5753-4b15-f310-5adeba08f7fb"
      },
      "execution_count": null,
      "outputs": [
        {
          "output_type": "stream",
          "name": "stdout",
          "text": [
            "Number of CabinSide missing values left is 66\n"
          ]
        }
      ]
    },
    {
      "cell_type": "code",
      "source": [
        "### Let's check the Cabin Side distribution\n",
        "df['CabinSide'].value_counts()"
      ],
      "metadata": {
        "colab": {
          "base_uri": "https://localhost:8080/"
        },
        "id": "GL-V6YsqJNP1",
        "outputId": "b5cad98b-fd15-4a9e-befa-cc53e21bd7c3"
      },
      "execution_count": null,
      "outputs": [
        {
          "output_type": "execute_result",
          "data": {
            "text/plain": [
              "S    6504\n",
              "P    6400\n",
              "Name: CabinSide, dtype: int64"
            ]
          },
          "metadata": {},
          "execution_count": 31
        }
      ]
    },
    {
      "cell_type": "markdown",
      "source": [
        "The remaining missing values are replaced with an outliers because the # side S and # side P is approximate."
      ],
      "metadata": {
        "id": "kDywqE5BI_HG"
      }
    },
    {
      "cell_type": "code",
      "source": [
        "df.loc[df['CabinSide'].isna(), 'CabinSide'] = 'Z'\n",
        "\n",
        "print('Number of CabinSide missing values left is {}'.format(df['CabinSide'].isna().sum()))"
      ],
      "metadata": {
        "colab": {
          "base_uri": "https://localhost:8080/"
        },
        "id": "yYu95ZqWK2V1",
        "outputId": "1772a876-1141-4fd6-bdf6-c5dc2cba9eab"
      },
      "execution_count": null,
      "outputs": [
        {
          "output_type": "stream",
          "name": "stdout",
          "text": [
            "Number of CabinSide missing values left is 0\n"
          ]
        }
      ]
    },
    {
      "cell_type": "markdown",
      "source": [
        "> > #### *1.6. CABIN DECK*"
      ],
      "metadata": {
        "id": "shPYUH_P_SWE"
      }
    },
    {
      "cell_type": "markdown",
      "source": [
        "> > > Same Group - Same Deck?\n",
        "\n",
        "As we plotted the joint distribution of GroupID and CabinDeck, groups are more likely (about 68.46%) to stay in the same deck on spaceship.\n",
        "\n",
        "Thus, firsly we filling the CabinDeck missing values by the GroupID"
      ],
      "metadata": {
        "id": "JTYRXT9F_nFN"
      }
    },
    {
      "cell_type": "code",
      "source": [
        "### Joint Distribution of GroupID and Cabin deck\n",
        "group_cabindeck = df[df['GroupSize'] > 1].groupby(['GroupID', 'CabinDeck']).size().unstack()\n",
        "group_cabindeck['size'] = (group_cabindeck >0).sum(axis = 1)\n",
        "\n",
        "print('Number of groups are in 1 cabindeck: {} ({:.2f}%)'.format(len(group_cabindeck[group_cabindeck['size'] == 1]), \n",
        "                                                            len(group_cabindeck[group_cabindeck['size'] == 1])/ len(group_cabindeck)*100\n",
        "                                                            ))"
      ],
      "metadata": {
        "colab": {
          "base_uri": "https://localhost:8080/"
        },
        "id": "WVpzAvCX_k39",
        "outputId": "7ddb8822-081c-419b-b596-e4c39d678304"
      },
      "execution_count": null,
      "outputs": [
        {
          "output_type": "stream",
          "name": "stdout",
          "text": [
            "Number of groups are in 1 cabindeck: 1461 (68.46%)\n"
          ]
        }
      ]
    },
    {
      "cell_type": "code",
      "source": [
        "group_cabindeck.drop(columns = 'size', inplace = True)\n",
        "### Pasengers travel in group but have no CabinDeck \n",
        "group_deck_idx = df[df['CabinDeck'].isna()]\n",
        "group_deck_idx = group_deck_idx[group_deck_idx['GroupID'].isin(group_cabindeck.index)].index\n",
        "\n",
        "### filling missing values\n",
        "df.loc[group_deck_idx, 'CabinDeck'] = df.iloc[group_deck_idx, :]['GroupID'].map(lambda x: group_cabindeck.idxmax(axis = 1)[x])\n",
        "\n",
        "print('Number of CabinDeck missing values left is {}'.format(df['CabinDeck'].isna().sum()))"
      ],
      "metadata": {
        "colab": {
          "base_uri": "https://localhost:8080/"
        },
        "id": "GqHCCb3HBnnL",
        "outputId": "a971582b-f364-4d1b-a1f4-93370d7fc1ca"
      },
      "execution_count": null,
      "outputs": [
        {
          "output_type": "stream",
          "name": "stdout",
          "text": [
            "Number of CabinDeck missing values left is 162\n"
          ]
        }
      ]
    },
    {
      "cell_type": "markdown",
      "source": [
        "> > > Same HomePlanet - Same CabinDeck?"
      ],
      "metadata": {
        "id": "sRk73f9OC3gt"
      }
    },
    {
      "cell_type": "code",
      "source": [
        "home_deck = df.copy().groupby(['HomePlanet', 'CabinDeck']).size().unstack()\n",
        "home_deck\n"
      ],
      "metadata": {
        "id": "X0TCJJHbC-T0",
        "colab": {
          "base_uri": "https://localhost:8080/",
          "height": 175
        },
        "outputId": "fc5066ff-e716-4734-b409-7cf3865dbb6e"
      },
      "execution_count": null,
      "outputs": [
        {
          "output_type": "execute_result",
          "data": {
            "text/plain": [
              "CabinDeck       A       B       C      D      E       F       G     T\n",
              "HomePlanet                                                           \n",
              "Earth         NaN     NaN     NaN    NaN  601.0  2496.0  3821.0   NaN\n",
              "Europa      361.0  1161.0  1122.0  309.0  204.0     NaN     NaN  11.0\n",
              "Mars          NaN     NaN     NaN  421.0  529.0  1772.0     NaN   NaN"
            ],
            "text/html": [
              "\n",
              "  <div id=\"df-6b0cfc04-c1b4-4319-99a1-ca23125ba327\">\n",
              "    <div class=\"colab-df-container\">\n",
              "      <div>\n",
              "<style scoped>\n",
              "    .dataframe tbody tr th:only-of-type {\n",
              "        vertical-align: middle;\n",
              "    }\n",
              "\n",
              "    .dataframe tbody tr th {\n",
              "        vertical-align: top;\n",
              "    }\n",
              "\n",
              "    .dataframe thead th {\n",
              "        text-align: right;\n",
              "    }\n",
              "</style>\n",
              "<table border=\"1\" class=\"dataframe\">\n",
              "  <thead>\n",
              "    <tr style=\"text-align: right;\">\n",
              "      <th>CabinDeck</th>\n",
              "      <th>A</th>\n",
              "      <th>B</th>\n",
              "      <th>C</th>\n",
              "      <th>D</th>\n",
              "      <th>E</th>\n",
              "      <th>F</th>\n",
              "      <th>G</th>\n",
              "      <th>T</th>\n",
              "    </tr>\n",
              "    <tr>\n",
              "      <th>HomePlanet</th>\n",
              "      <th></th>\n",
              "      <th></th>\n",
              "      <th></th>\n",
              "      <th></th>\n",
              "      <th></th>\n",
              "      <th></th>\n",
              "      <th></th>\n",
              "      <th></th>\n",
              "    </tr>\n",
              "  </thead>\n",
              "  <tbody>\n",
              "    <tr>\n",
              "      <th>Earth</th>\n",
              "      <td>NaN</td>\n",
              "      <td>NaN</td>\n",
              "      <td>NaN</td>\n",
              "      <td>NaN</td>\n",
              "      <td>601.0</td>\n",
              "      <td>2496.0</td>\n",
              "      <td>3821.0</td>\n",
              "      <td>NaN</td>\n",
              "    </tr>\n",
              "    <tr>\n",
              "      <th>Europa</th>\n",
              "      <td>361.0</td>\n",
              "      <td>1161.0</td>\n",
              "      <td>1122.0</td>\n",
              "      <td>309.0</td>\n",
              "      <td>204.0</td>\n",
              "      <td>NaN</td>\n",
              "      <td>NaN</td>\n",
              "      <td>11.0</td>\n",
              "    </tr>\n",
              "    <tr>\n",
              "      <th>Mars</th>\n",
              "      <td>NaN</td>\n",
              "      <td>NaN</td>\n",
              "      <td>NaN</td>\n",
              "      <td>421.0</td>\n",
              "      <td>529.0</td>\n",
              "      <td>1772.0</td>\n",
              "      <td>NaN</td>\n",
              "      <td>NaN</td>\n",
              "    </tr>\n",
              "  </tbody>\n",
              "</table>\n",
              "</div>\n",
              "      <button class=\"colab-df-convert\" onclick=\"convertToInteractive('df-6b0cfc04-c1b4-4319-99a1-ca23125ba327')\"\n",
              "              title=\"Convert this dataframe to an interactive table.\"\n",
              "              style=\"display:none;\">\n",
              "        \n",
              "  <svg xmlns=\"http://www.w3.org/2000/svg\" height=\"24px\"viewBox=\"0 0 24 24\"\n",
              "       width=\"24px\">\n",
              "    <path d=\"M0 0h24v24H0V0z\" fill=\"none\"/>\n",
              "    <path d=\"M18.56 5.44l.94 2.06.94-2.06 2.06-.94-2.06-.94-.94-2.06-.94 2.06-2.06.94zm-11 1L8.5 8.5l.94-2.06 2.06-.94-2.06-.94L8.5 2.5l-.94 2.06-2.06.94zm10 10l.94 2.06.94-2.06 2.06-.94-2.06-.94-.94-2.06-.94 2.06-2.06.94z\"/><path d=\"M17.41 7.96l-1.37-1.37c-.4-.4-.92-.59-1.43-.59-.52 0-1.04.2-1.43.59L10.3 9.45l-7.72 7.72c-.78.78-.78 2.05 0 2.83L4 21.41c.39.39.9.59 1.41.59.51 0 1.02-.2 1.41-.59l7.78-7.78 2.81-2.81c.8-.78.8-2.07 0-2.86zM5.41 20L4 18.59l7.72-7.72 1.47 1.35L5.41 20z\"/>\n",
              "  </svg>\n",
              "      </button>\n",
              "      \n",
              "  <style>\n",
              "    .colab-df-container {\n",
              "      display:flex;\n",
              "      flex-wrap:wrap;\n",
              "      gap: 12px;\n",
              "    }\n",
              "\n",
              "    .colab-df-convert {\n",
              "      background-color: #E8F0FE;\n",
              "      border: none;\n",
              "      border-radius: 50%;\n",
              "      cursor: pointer;\n",
              "      display: none;\n",
              "      fill: #1967D2;\n",
              "      height: 32px;\n",
              "      padding: 0 0 0 0;\n",
              "      width: 32px;\n",
              "    }\n",
              "\n",
              "    .colab-df-convert:hover {\n",
              "      background-color: #E2EBFA;\n",
              "      box-shadow: 0px 1px 2px rgba(60, 64, 67, 0.3), 0px 1px 3px 1px rgba(60, 64, 67, 0.15);\n",
              "      fill: #174EA6;\n",
              "    }\n",
              "\n",
              "    [theme=dark] .colab-df-convert {\n",
              "      background-color: #3B4455;\n",
              "      fill: #D2E3FC;\n",
              "    }\n",
              "\n",
              "    [theme=dark] .colab-df-convert:hover {\n",
              "      background-color: #434B5C;\n",
              "      box-shadow: 0px 1px 3px 1px rgba(0, 0, 0, 0.15);\n",
              "      filter: drop-shadow(0px 1px 2px rgba(0, 0, 0, 0.3));\n",
              "      fill: #FFFFFF;\n",
              "    }\n",
              "  </style>\n",
              "\n",
              "      <script>\n",
              "        const buttonEl =\n",
              "          document.querySelector('#df-6b0cfc04-c1b4-4319-99a1-ca23125ba327 button.colab-df-convert');\n",
              "        buttonEl.style.display =\n",
              "          google.colab.kernel.accessAllowed ? 'block' : 'none';\n",
              "\n",
              "        async function convertToInteractive(key) {\n",
              "          const element = document.querySelector('#df-6b0cfc04-c1b4-4319-99a1-ca23125ba327');\n",
              "          const dataTable =\n",
              "            await google.colab.kernel.invokeFunction('convertToInteractive',\n",
              "                                                     [key], {});\n",
              "          if (!dataTable) return;\n",
              "\n",
              "          const docLinkHtml = 'Like what you see? Visit the ' +\n",
              "            '<a target=\"_blank\" href=https://colab.research.google.com/notebooks/data_table.ipynb>data table notebook</a>'\n",
              "            + ' to learn more about interactive tables.';\n",
              "          element.innerHTML = '';\n",
              "          dataTable['output_type'] = 'display_data';\n",
              "          await google.colab.output.renderOutput(dataTable, element);\n",
              "          const docLink = document.createElement('div');\n",
              "          docLink.innerHTML = docLinkHtml;\n",
              "          element.appendChild(docLink);\n",
              "        }\n",
              "      </script>\n",
              "    </div>\n",
              "  </div>\n",
              "  "
            ]
          },
          "metadata": {},
          "execution_count": 7
        }
      ]
    },
    {
      "cell_type": "markdown",
      "source": [
        "Well, it is quite complicated if we only join HomePlanet and CabinDeck. We will add more features to have more clearer views"
      ],
      "metadata": {
        "id": "A-Dei-DLEspb"
      }
    },
    {
      "cell_type": "code",
      "source": [
        "home_deck = df.copy().groupby(['HomePlanet', 'Destination', 'InPerson', 'CabinDeck']).size().unstack()\n",
        "home_deck"
      ],
      "metadata": {
        "colab": {
          "base_uri": "https://localhost:8080/",
          "height": 645
        },
        "id": "brE8PNmQGK87",
        "outputId": "4b54c858-83b4-4b04-ff77-0f640fc7e9c8"
      },
      "execution_count": null,
      "outputs": [
        {
          "output_type": "execute_result",
          "data": {
            "text/plain": [
              "CabinDeck                              A      B      C      D      E       F  \\\n",
              "HomePlanet Destination   InPerson                                              \n",
              "Earth      55 Cancri e   0           NaN    NaN    NaN    NaN   20.0    90.0   \n",
              "                         1           NaN    NaN    NaN    NaN   47.0   289.0   \n",
              "           PSO J318.5-22 0           NaN    NaN    NaN    NaN   18.0    67.0   \n",
              "                         1           NaN    NaN    NaN    NaN   25.0   262.0   \n",
              "           TRAPPIST-1e   0           NaN    NaN    NaN    NaN  133.0   438.0   \n",
              "                         1           NaN    NaN    NaN    NaN  358.0  1350.0   \n",
              "Europa     55 Cancri e   0          96.0  377.0  313.0   59.0   35.0     NaN   \n",
              "                         1          67.0  141.0  159.0   46.0   34.0     NaN   \n",
              "           PSO J318.5-22 0           2.0    5.0   11.0    NaN    NaN     NaN   \n",
              "                         1           NaN    NaN   10.0    NaN    NaN     NaN   \n",
              "           TRAPPIST-1e   0         152.0  459.0  428.0  120.0   53.0     NaN   \n",
              "                         1          44.0  179.0  201.0   84.0   82.0     NaN   \n",
              "Mars       55 Cancri e   0           NaN    NaN    NaN   32.0   15.0   104.0   \n",
              "                         1           NaN    NaN    NaN   40.0   16.0    92.0   \n",
              "           PSO J318.5-22 0           NaN    NaN    NaN    8.0    9.0    14.0   \n",
              "                         1           NaN    NaN    NaN    9.0    7.0    21.0   \n",
              "           TRAPPIST-1e   0           NaN    NaN    NaN  168.0  219.0   798.0   \n",
              "                         1           NaN    NaN    NaN  164.0  263.0   743.0   \n",
              "\n",
              "CabinDeck                               G    T  \n",
              "HomePlanet Destination   InPerson               \n",
              "Earth      55 Cancri e   0          272.0  NaN  \n",
              "                         1          269.0  NaN  \n",
              "           PSO J318.5-22 0          230.0  NaN  \n",
              "                         1          466.0  NaN  \n",
              "           TRAPPIST-1e   0         1075.0  NaN  \n",
              "                         1         1509.0  NaN  \n",
              "Europa     55 Cancri e   0            NaN  2.0  \n",
              "                         1            NaN  NaN  \n",
              "           PSO J318.5-22 0            NaN  NaN  \n",
              "                         1            NaN  NaN  \n",
              "           TRAPPIST-1e   0            NaN  1.0  \n",
              "                         1            NaN  8.0  \n",
              "Mars       55 Cancri e   0            NaN  NaN  \n",
              "                         1            NaN  NaN  \n",
              "           PSO J318.5-22 0            NaN  NaN  \n",
              "                         1            NaN  NaN  \n",
              "           TRAPPIST-1e   0            NaN  NaN  \n",
              "                         1            NaN  NaN  "
            ],
            "text/html": [
              "\n",
              "  <div id=\"df-d9e36877-14a0-4eb6-858a-d5d966c46caa\">\n",
              "    <div class=\"colab-df-container\">\n",
              "      <div>\n",
              "<style scoped>\n",
              "    .dataframe tbody tr th:only-of-type {\n",
              "        vertical-align: middle;\n",
              "    }\n",
              "\n",
              "    .dataframe tbody tr th {\n",
              "        vertical-align: top;\n",
              "    }\n",
              "\n",
              "    .dataframe thead th {\n",
              "        text-align: right;\n",
              "    }\n",
              "</style>\n",
              "<table border=\"1\" class=\"dataframe\">\n",
              "  <thead>\n",
              "    <tr style=\"text-align: right;\">\n",
              "      <th></th>\n",
              "      <th></th>\n",
              "      <th>CabinDeck</th>\n",
              "      <th>A</th>\n",
              "      <th>B</th>\n",
              "      <th>C</th>\n",
              "      <th>D</th>\n",
              "      <th>E</th>\n",
              "      <th>F</th>\n",
              "      <th>G</th>\n",
              "      <th>T</th>\n",
              "    </tr>\n",
              "    <tr>\n",
              "      <th>HomePlanet</th>\n",
              "      <th>Destination</th>\n",
              "      <th>InPerson</th>\n",
              "      <th></th>\n",
              "      <th></th>\n",
              "      <th></th>\n",
              "      <th></th>\n",
              "      <th></th>\n",
              "      <th></th>\n",
              "      <th></th>\n",
              "      <th></th>\n",
              "    </tr>\n",
              "  </thead>\n",
              "  <tbody>\n",
              "    <tr>\n",
              "      <th rowspan=\"6\" valign=\"top\">Earth</th>\n",
              "      <th rowspan=\"2\" valign=\"top\">55 Cancri e</th>\n",
              "      <th>0</th>\n",
              "      <td>NaN</td>\n",
              "      <td>NaN</td>\n",
              "      <td>NaN</td>\n",
              "      <td>NaN</td>\n",
              "      <td>20.0</td>\n",
              "      <td>90.0</td>\n",
              "      <td>272.0</td>\n",
              "      <td>NaN</td>\n",
              "    </tr>\n",
              "    <tr>\n",
              "      <th>1</th>\n",
              "      <td>NaN</td>\n",
              "      <td>NaN</td>\n",
              "      <td>NaN</td>\n",
              "      <td>NaN</td>\n",
              "      <td>47.0</td>\n",
              "      <td>289.0</td>\n",
              "      <td>269.0</td>\n",
              "      <td>NaN</td>\n",
              "    </tr>\n",
              "    <tr>\n",
              "      <th rowspan=\"2\" valign=\"top\">PSO J318.5-22</th>\n",
              "      <th>0</th>\n",
              "      <td>NaN</td>\n",
              "      <td>NaN</td>\n",
              "      <td>NaN</td>\n",
              "      <td>NaN</td>\n",
              "      <td>18.0</td>\n",
              "      <td>67.0</td>\n",
              "      <td>230.0</td>\n",
              "      <td>NaN</td>\n",
              "    </tr>\n",
              "    <tr>\n",
              "      <th>1</th>\n",
              "      <td>NaN</td>\n",
              "      <td>NaN</td>\n",
              "      <td>NaN</td>\n",
              "      <td>NaN</td>\n",
              "      <td>25.0</td>\n",
              "      <td>262.0</td>\n",
              "      <td>466.0</td>\n",
              "      <td>NaN</td>\n",
              "    </tr>\n",
              "    <tr>\n",
              "      <th rowspan=\"2\" valign=\"top\">TRAPPIST-1e</th>\n",
              "      <th>0</th>\n",
              "      <td>NaN</td>\n",
              "      <td>NaN</td>\n",
              "      <td>NaN</td>\n",
              "      <td>NaN</td>\n",
              "      <td>133.0</td>\n",
              "      <td>438.0</td>\n",
              "      <td>1075.0</td>\n",
              "      <td>NaN</td>\n",
              "    </tr>\n",
              "    <tr>\n",
              "      <th>1</th>\n",
              "      <td>NaN</td>\n",
              "      <td>NaN</td>\n",
              "      <td>NaN</td>\n",
              "      <td>NaN</td>\n",
              "      <td>358.0</td>\n",
              "      <td>1350.0</td>\n",
              "      <td>1509.0</td>\n",
              "      <td>NaN</td>\n",
              "    </tr>\n",
              "    <tr>\n",
              "      <th rowspan=\"6\" valign=\"top\">Europa</th>\n",
              "      <th rowspan=\"2\" valign=\"top\">55 Cancri e</th>\n",
              "      <th>0</th>\n",
              "      <td>96.0</td>\n",
              "      <td>377.0</td>\n",
              "      <td>313.0</td>\n",
              "      <td>59.0</td>\n",
              "      <td>35.0</td>\n",
              "      <td>NaN</td>\n",
              "      <td>NaN</td>\n",
              "      <td>2.0</td>\n",
              "    </tr>\n",
              "    <tr>\n",
              "      <th>1</th>\n",
              "      <td>67.0</td>\n",
              "      <td>141.0</td>\n",
              "      <td>159.0</td>\n",
              "      <td>46.0</td>\n",
              "      <td>34.0</td>\n",
              "      <td>NaN</td>\n",
              "      <td>NaN</td>\n",
              "      <td>NaN</td>\n",
              "    </tr>\n",
              "    <tr>\n",
              "      <th rowspan=\"2\" valign=\"top\">PSO J318.5-22</th>\n",
              "      <th>0</th>\n",
              "      <td>2.0</td>\n",
              "      <td>5.0</td>\n",
              "      <td>11.0</td>\n",
              "      <td>NaN</td>\n",
              "      <td>NaN</td>\n",
              "      <td>NaN</td>\n",
              "      <td>NaN</td>\n",
              "      <td>NaN</td>\n",
              "    </tr>\n",
              "    <tr>\n",
              "      <th>1</th>\n",
              "      <td>NaN</td>\n",
              "      <td>NaN</td>\n",
              "      <td>10.0</td>\n",
              "      <td>NaN</td>\n",
              "      <td>NaN</td>\n",
              "      <td>NaN</td>\n",
              "      <td>NaN</td>\n",
              "      <td>NaN</td>\n",
              "    </tr>\n",
              "    <tr>\n",
              "      <th rowspan=\"2\" valign=\"top\">TRAPPIST-1e</th>\n",
              "      <th>0</th>\n",
              "      <td>152.0</td>\n",
              "      <td>459.0</td>\n",
              "      <td>428.0</td>\n",
              "      <td>120.0</td>\n",
              "      <td>53.0</td>\n",
              "      <td>NaN</td>\n",
              "      <td>NaN</td>\n",
              "      <td>1.0</td>\n",
              "    </tr>\n",
              "    <tr>\n",
              "      <th>1</th>\n",
              "      <td>44.0</td>\n",
              "      <td>179.0</td>\n",
              "      <td>201.0</td>\n",
              "      <td>84.0</td>\n",
              "      <td>82.0</td>\n",
              "      <td>NaN</td>\n",
              "      <td>NaN</td>\n",
              "      <td>8.0</td>\n",
              "    </tr>\n",
              "    <tr>\n",
              "      <th rowspan=\"6\" valign=\"top\">Mars</th>\n",
              "      <th rowspan=\"2\" valign=\"top\">55 Cancri e</th>\n",
              "      <th>0</th>\n",
              "      <td>NaN</td>\n",
              "      <td>NaN</td>\n",
              "      <td>NaN</td>\n",
              "      <td>32.0</td>\n",
              "      <td>15.0</td>\n",
              "      <td>104.0</td>\n",
              "      <td>NaN</td>\n",
              "      <td>NaN</td>\n",
              "    </tr>\n",
              "    <tr>\n",
              "      <th>1</th>\n",
              "      <td>NaN</td>\n",
              "      <td>NaN</td>\n",
              "      <td>NaN</td>\n",
              "      <td>40.0</td>\n",
              "      <td>16.0</td>\n",
              "      <td>92.0</td>\n",
              "      <td>NaN</td>\n",
              "      <td>NaN</td>\n",
              "    </tr>\n",
              "    <tr>\n",
              "      <th rowspan=\"2\" valign=\"top\">PSO J318.5-22</th>\n",
              "      <th>0</th>\n",
              "      <td>NaN</td>\n",
              "      <td>NaN</td>\n",
              "      <td>NaN</td>\n",
              "      <td>8.0</td>\n",
              "      <td>9.0</td>\n",
              "      <td>14.0</td>\n",
              "      <td>NaN</td>\n",
              "      <td>NaN</td>\n",
              "    </tr>\n",
              "    <tr>\n",
              "      <th>1</th>\n",
              "      <td>NaN</td>\n",
              "      <td>NaN</td>\n",
              "      <td>NaN</td>\n",
              "      <td>9.0</td>\n",
              "      <td>7.0</td>\n",
              "      <td>21.0</td>\n",
              "      <td>NaN</td>\n",
              "      <td>NaN</td>\n",
              "    </tr>\n",
              "    <tr>\n",
              "      <th rowspan=\"2\" valign=\"top\">TRAPPIST-1e</th>\n",
              "      <th>0</th>\n",
              "      <td>NaN</td>\n",
              "      <td>NaN</td>\n",
              "      <td>NaN</td>\n",
              "      <td>168.0</td>\n",
              "      <td>219.0</td>\n",
              "      <td>798.0</td>\n",
              "      <td>NaN</td>\n",
              "      <td>NaN</td>\n",
              "    </tr>\n",
              "    <tr>\n",
              "      <th>1</th>\n",
              "      <td>NaN</td>\n",
              "      <td>NaN</td>\n",
              "      <td>NaN</td>\n",
              "      <td>164.0</td>\n",
              "      <td>263.0</td>\n",
              "      <td>743.0</td>\n",
              "      <td>NaN</td>\n",
              "      <td>NaN</td>\n",
              "    </tr>\n",
              "  </tbody>\n",
              "</table>\n",
              "</div>\n",
              "      <button class=\"colab-df-convert\" onclick=\"convertToInteractive('df-d9e36877-14a0-4eb6-858a-d5d966c46caa')\"\n",
              "              title=\"Convert this dataframe to an interactive table.\"\n",
              "              style=\"display:none;\">\n",
              "        \n",
              "  <svg xmlns=\"http://www.w3.org/2000/svg\" height=\"24px\"viewBox=\"0 0 24 24\"\n",
              "       width=\"24px\">\n",
              "    <path d=\"M0 0h24v24H0V0z\" fill=\"none\"/>\n",
              "    <path d=\"M18.56 5.44l.94 2.06.94-2.06 2.06-.94-2.06-.94-.94-2.06-.94 2.06-2.06.94zm-11 1L8.5 8.5l.94-2.06 2.06-.94-2.06-.94L8.5 2.5l-.94 2.06-2.06.94zm10 10l.94 2.06.94-2.06 2.06-.94-2.06-.94-.94-2.06-.94 2.06-2.06.94z\"/><path d=\"M17.41 7.96l-1.37-1.37c-.4-.4-.92-.59-1.43-.59-.52 0-1.04.2-1.43.59L10.3 9.45l-7.72 7.72c-.78.78-.78 2.05 0 2.83L4 21.41c.39.39.9.59 1.41.59.51 0 1.02-.2 1.41-.59l7.78-7.78 2.81-2.81c.8-.78.8-2.07 0-2.86zM5.41 20L4 18.59l7.72-7.72 1.47 1.35L5.41 20z\"/>\n",
              "  </svg>\n",
              "      </button>\n",
              "      \n",
              "  <style>\n",
              "    .colab-df-container {\n",
              "      display:flex;\n",
              "      flex-wrap:wrap;\n",
              "      gap: 12px;\n",
              "    }\n",
              "\n",
              "    .colab-df-convert {\n",
              "      background-color: #E8F0FE;\n",
              "      border: none;\n",
              "      border-radius: 50%;\n",
              "      cursor: pointer;\n",
              "      display: none;\n",
              "      fill: #1967D2;\n",
              "      height: 32px;\n",
              "      padding: 0 0 0 0;\n",
              "      width: 32px;\n",
              "    }\n",
              "\n",
              "    .colab-df-convert:hover {\n",
              "      background-color: #E2EBFA;\n",
              "      box-shadow: 0px 1px 2px rgba(60, 64, 67, 0.3), 0px 1px 3px 1px rgba(60, 64, 67, 0.15);\n",
              "      fill: #174EA6;\n",
              "    }\n",
              "\n",
              "    [theme=dark] .colab-df-convert {\n",
              "      background-color: #3B4455;\n",
              "      fill: #D2E3FC;\n",
              "    }\n",
              "\n",
              "    [theme=dark] .colab-df-convert:hover {\n",
              "      background-color: #434B5C;\n",
              "      box-shadow: 0px 1px 3px 1px rgba(0, 0, 0, 0.15);\n",
              "      filter: drop-shadow(0px 1px 2px rgba(0, 0, 0, 0.3));\n",
              "      fill: #FFFFFF;\n",
              "    }\n",
              "  </style>\n",
              "\n",
              "      <script>\n",
              "        const buttonEl =\n",
              "          document.querySelector('#df-d9e36877-14a0-4eb6-858a-d5d966c46caa button.colab-df-convert');\n",
              "        buttonEl.style.display =\n",
              "          google.colab.kernel.accessAllowed ? 'block' : 'none';\n",
              "\n",
              "        async function convertToInteractive(key) {\n",
              "          const element = document.querySelector('#df-d9e36877-14a0-4eb6-858a-d5d966c46caa');\n",
              "          const dataTable =\n",
              "            await google.colab.kernel.invokeFunction('convertToInteractive',\n",
              "                                                     [key], {});\n",
              "          if (!dataTable) return;\n",
              "\n",
              "          const docLinkHtml = 'Like what you see? Visit the ' +\n",
              "            '<a target=\"_blank\" href=https://colab.research.google.com/notebooks/data_table.ipynb>data table notebook</a>'\n",
              "            + ' to learn more about interactive tables.';\n",
              "          element.innerHTML = '';\n",
              "          dataTable['output_type'] = 'display_data';\n",
              "          await google.colab.output.renderOutput(dataTable, element);\n",
              "          const docLink = document.createElement('div');\n",
              "          docLink.innerHTML = docLinkHtml;\n",
              "          element.appendChild(docLink);\n",
              "        }\n",
              "      </script>\n",
              "    </div>\n",
              "  </div>\n",
              "  "
            ]
          },
          "metadata": {},
          "execution_count": 8
        }
      ]
    },
    {
      "cell_type": "markdown",
      "source": [
        "It is not that perfect but it is more detailed. For example, passengers traveling from 'Earth' to '55 Cancri e' in group are more likely in deck G while travelings in person are more likely in deck F. Thus, we can use the mode to filling the CabinDeck missing values"
      ],
      "metadata": {
        "id": "12kK3kF1G-S0"
      }
    },
    {
      "cell_type": "code",
      "source": [
        "home_deck_idx = df[df['CabinDeck'].isna()].index\n",
        "\n",
        "### Because pd.groupby has no index, we will use transform function to filling the missing values\n",
        "deck_mode = df.copy().groupby(['HomePlanet', 'Destination', 'InPerson'])['CabinDeck'].transform(func = lambda x: x.fillna(pd.Series.mode(x)[0]))\n",
        "df.loc[home_deck_idx, 'CabinDeck'] = deck_mode[home_deck_idx]\n",
        "\n",
        "print('Number of CabinDeck missing values left is {}'.format(df['CabinDeck'].isna().sum()))"
      ],
      "metadata": {
        "colab": {
          "base_uri": "https://localhost:8080/"
        },
        "id": "sgFXZJVkG987",
        "outputId": "9670b6cf-95e5-47fd-9810-c7340beaf0ce"
      },
      "execution_count": null,
      "outputs": [
        {
          "output_type": "stream",
          "name": "stdout",
          "text": [
            "Number of CabinDeck missing values left is 0\n"
          ]
        }
      ]
    },
    {
      "cell_type": "markdown",
      "source": [
        "> > #### *1.7. CABIN NUMBER*"
      ],
      "metadata": {
        "id": "aafRvKpPZHkI"
      }
    },
    {
      "cell_type": "markdown",
      "source": [
        "> > > Cabin Number and GroupID\n",
        "\n",
        "Let's take a scatter plot to figure out whether there is a relationship of CabinNumber and GroupID by CabinDeck"
      ],
      "metadata": {
        "id": "sDqzR2LrZdlg"
      }
    },
    {
      "cell_type": "code",
      "source": [
        "fig = plt.figure(figsize = (10, 6))\n",
        "\n",
        "### Color based on CabinDeck\n",
        "from sklearn.preprocessing import LabelEncoder\n",
        "color = LabelEncoder().fit_transform(df.loc[~df['CabinNumber'].isna(), 'CabinDeck'])\n",
        "sns.scatterplot(data = df, y = 'GroupID', x = 'CabinNumber', c = color, cmap = 'Set1')\n",
        "sns.despine(bottom = False, left = False)\n",
        "plt.title('GroupID and CabinNumber Scatterplot colored by CabinDeck')\n",
        "plt.show()"
      ],
      "metadata": {
        "colab": {
          "base_uri": "https://localhost:8080/",
          "height": 404
        },
        "id": "DJ9XOlvuZS-D",
        "outputId": "aa11f6d7-3932-4ea1-e9d0-2478882380bd"
      },
      "execution_count": null,
      "outputs": [
        {
          "output_type": "display_data",
          "data": {
            "text/plain": [
              "<Figure size 720x432 with 1 Axes>"
            ],
            "image/png": "[encoded data removed]"
          },
          "metadata": {
            "needs_background": "light"
          }
        }
      ]
    },
    {
      "cell_type": "markdown",
      "source": [
        "The CabinNumber and GroupID share a linear relationship on a CabinDeck. We can therefore extrapolate the missing cabin numbers using linear regression on a CabinDeck to get an approximate CabinNumber."
      ],
      "metadata": {
        "id": "P46Urc-XeGRP"
      }
    },
    {
      "cell_type": "code",
      "source": [
        "from sklearn.linear_model import LinearRegression\n",
        "\n",
        "### Because deck T is an outlier, we exclude it in the linear regression.\n",
        "decks = ['A', 'B', 'C', 'D', 'E', 'F', 'G']\n",
        "\n",
        "for deck in decks:\n",
        "\n",
        "  ### Determine training set and test set\n",
        "  X_train = df.loc[~(df['CabinNumber'].isna()) & (df['CabinDeck'] == deck), 'GroupID']\n",
        "  y_train = df.loc[~(df['CabinNumber'].isna()) & (df['CabinDeck'] == deck), 'CabinNumber']\n",
        "\n",
        "  X_test = df.loc[(df['CabinNumber'].isna()) & (df['CabinDeck'] == deck), 'GroupID']\n",
        "\n",
        "  ### Linear Regression\n",
        "  reg = LinearRegression().fit(X_train.values.reshape(-1, 1), y_train)\n",
        "  pred = reg.predict(X_test.values.reshape(-1, 1))\n",
        "\n",
        "  ### Filling missing values\n",
        "  df.loc[(df['CabinNumber'].isna()) & (df['CabinDeck'] == deck), 'CabinNumber'] = pred.astype(int)\n",
        "\n",
        "print('Number of CabinNumber missing values left is {}'.format(df['CabinNumber'].isna().sum()))"
      ],
      "metadata": {
        "colab": {
          "base_uri": "https://localhost:8080/"
        },
        "id": "dUNblzKAeoro",
        "outputId": "77c931dc-c3ab-4bd7-b777-9e04b928211e"
      },
      "execution_count": null,
      "outputs": [
        {
          "output_type": "stream",
          "name": "stdout",
          "text": [
            "Number of CabinNumber missing values left is 0\n"
          ]
        }
      ]
    },
    {
      "cell_type": "code",
      "source": [
        "### Seperate CabinNumber into chunks of 300 numbers\n",
        "df.loc[df['CabinNumber'] <300,'CabinRegion'] = 1\n",
        "df.loc[(df['CabinNumber'] >=300) & (df['CabinNumber'] <600),'CabinRegion'] = 2\n",
        "df.loc[(df['CabinNumber'] >=600) & (df['CabinNumber'] <900),'CabinRegion'] = 3\n",
        "df.loc[(df['CabinNumber'] >=900) & (df['CabinNumber'] <1200),'CabinRegion'] = 4\n",
        "df.loc[(df['CabinNumber'] >=1200) & (df['CabinNumber'] <1500),'CabinRegion'] = 5\n",
        "df.loc[(df['CabinNumber'] >=1500) & (df['CabinNumber'] <1800),'CabinRegion'] = 6\n",
        "df.loc[(df['CabinNumber'] >=1800),'CabinRegion'] = 7\n"
      ],
      "metadata": {
        "id": "-sz-kaJxFXcn"
      },
      "execution_count": null,
      "outputs": []
    },
    {
      "cell_type": "markdown",
      "source": [
        "> > #### *1.8. VIP*"
      ],
      "metadata": {
        "id": "hrQO5AB6Z-PU"
      }
    },
    {
      "cell_type": "markdown",
      "source": [
        "VIP is highly unbalance, so we just add the missing values by the mode"
      ],
      "metadata": {
        "id": "yopjDRdsaRmz"
      }
    },
    {
      "cell_type": "code",
      "source": [
        "df['VIP'].value_counts()"
      ],
      "metadata": {
        "colab": {
          "base_uri": "https://localhost:8080/"
        },
        "id": "hRay22HmaJIz",
        "outputId": "19f766a0-e163-47d5-8bc0-c490e5757d0c"
      },
      "execution_count": null,
      "outputs": [
        {
          "output_type": "execute_result",
          "data": {
            "text/plain": [
              "False    12401\n",
              "True       273\n",
              "Name: VIP, dtype: int64"
            ]
          },
          "metadata": {},
          "execution_count": 6
        }
      ]
    },
    {
      "cell_type": "code",
      "source": [
        "df['VIP'].fillna('False', inplace = True)\n",
        "\n",
        "print('Number of VIP missing values left is {}'.format(df['VIP'].isna().sum()))"
      ],
      "metadata": {
        "colab": {
          "base_uri": "https://localhost:8080/"
        },
        "id": "K8by4M4gaeGy",
        "outputId": "1a63e5ce-0989-47a2-ecfc-93557f7a4d74"
      },
      "execution_count": null,
      "outputs": [
        {
          "output_type": "stream",
          "name": "stdout",
          "text": [
            "Number of VIP missing values left is 0\n"
          ]
        }
      ]
    },
    {
      "cell_type": "markdown",
      "source": [
        "> > #### *1.9. CRYOSLEEP*"
      ],
      "metadata": {
        "id": "yzmAaPX2PRnm"
      }
    },
    {
      "cell_type": "markdown",
      "source": [
        "In order to impute the cryosleeping, we first should check the Expenditure features ('RoomService', 'FoodCourt', 'ShoppingMall', 'Spa', 'VRDeck'). Because, obviously those who stay in cryosleep cannot pay for any extra services in the spaceship."
      ],
      "metadata": {
        "id": "yAOCIKwdvi-p"
      }
    },
    {
      "cell_type": "code",
      "source": [
        "extra_services = ['RoomService', 'FoodCourt', 'ShoppingMall', 'Spa', 'VRDeck']\n",
        "df['ExtraServices'] = df[extra_services].sum(axis = 1)\n",
        "df['Expenditure'] = (df['ExtraServices'] != 0).astype(int)"
      ],
      "metadata": {
        "id": "sJYKIPBtvZcR"
      },
      "execution_count": null,
      "outputs": []
    },
    {
      "cell_type": "code",
      "source": [
        "### Joint distribution of Cryosleep and Expenditure\n",
        "df.groupby(['CryoSleep', 'Expenditure']).size().unstack()"
      ],
      "metadata": {
        "colab": {
          "base_uri": "https://localhost:8080/",
          "height": 143
        },
        "id": "NY9-ANTtwdrK",
        "outputId": "d22a4912-0918-45f5-dfe8-06900c7f1cba"
      },
      "execution_count": null,
      "outputs": [
        {
          "output_type": "execute_result",
          "data": {
            "text/plain": [
              "Expenditure       0       1\n",
              "CryoSleep                  \n",
              "False         740.0  7339.0\n",
              "True         4581.0     NaN"
            ],
            "text/html": [
              "\n",
              "  <div id=\"df-bdebd358-54ca-4a94-a5ad-d4f35aaf061d\">\n",
              "    <div class=\"colab-df-container\">\n",
              "      <div>\n",
              "<style scoped>\n",
              "    .dataframe tbody tr th:only-of-type {\n",
              "        vertical-align: middle;\n",
              "    }\n",
              "\n",
              "    .dataframe tbody tr th {\n",
              "        vertical-align: top;\n",
              "    }\n",
              "\n",
              "    .dataframe thead th {\n",
              "        text-align: right;\n",
              "    }\n",
              "</style>\n",
              "<table border=\"1\" class=\"dataframe\">\n",
              "  <thead>\n",
              "    <tr style=\"text-align: right;\">\n",
              "      <th>Expenditure</th>\n",
              "      <th>0</th>\n",
              "      <th>1</th>\n",
              "    </tr>\n",
              "    <tr>\n",
              "      <th>CryoSleep</th>\n",
              "      <th></th>\n",
              "      <th></th>\n",
              "    </tr>\n",
              "  </thead>\n",
              "  <tbody>\n",
              "    <tr>\n",
              "      <th>False</th>\n",
              "      <td>740.0</td>\n",
              "      <td>7339.0</td>\n",
              "    </tr>\n",
              "    <tr>\n",
              "      <th>True</th>\n",
              "      <td>4581.0</td>\n",
              "      <td>NaN</td>\n",
              "    </tr>\n",
              "  </tbody>\n",
              "</table>\n",
              "</div>\n",
              "      <button class=\"colab-df-convert\" onclick=\"convertToInteractive('df-bdebd358-54ca-4a94-a5ad-d4f35aaf061d')\"\n",
              "              title=\"Convert this dataframe to an interactive table.\"\n",
              "              style=\"display:none;\">\n",
              "        \n",
              "  <svg xmlns=\"http://www.w3.org/2000/svg\" height=\"24px\"viewBox=\"0 0 24 24\"\n",
              "       width=\"24px\">\n",
              "    <path d=\"M0 0h24v24H0V0z\" fill=\"none\"/>\n",
              "    <path d=\"M18.56 5.44l.94 2.06.94-2.06 2.06-.94-2.06-.94-.94-2.06-.94 2.06-2.06.94zm-11 1L8.5 8.5l.94-2.06 2.06-.94-2.06-.94L8.5 2.5l-.94 2.06-2.06.94zm10 10l.94 2.06.94-2.06 2.06-.94-2.06-.94-.94-2.06-.94 2.06-2.06.94z\"/><path d=\"M17.41 7.96l-1.37-1.37c-.4-.4-.92-.59-1.43-.59-.52 0-1.04.2-1.43.59L10.3 9.45l-7.72 7.72c-.78.78-.78 2.05 0 2.83L4 21.41c.39.39.9.59 1.41.59.51 0 1.02-.2 1.41-.59l7.78-7.78 2.81-2.81c.8-.78.8-2.07 0-2.86zM5.41 20L4 18.59l7.72-7.72 1.47 1.35L5.41 20z\"/>\n",
              "  </svg>\n",
              "      </button>\n",
              "      \n",
              "  <style>\n",
              "    .colab-df-container {\n",
              "      display:flex;\n",
              "      flex-wrap:wrap;\n",
              "      gap: 12px;\n",
              "    }\n",
              "\n",
              "    .colab-df-convert {\n",
              "      background-color: #E8F0FE;\n",
              "      border: none;\n",
              "      border-radius: 50%;\n",
              "      cursor: pointer;\n",
              "      display: none;\n",
              "      fill: #1967D2;\n",
              "      height: 32px;\n",
              "      padding: 0 0 0 0;\n",
              "      width: 32px;\n",
              "    }\n",
              "\n",
              "    .colab-df-convert:hover {\n",
              "      background-color: #E2EBFA;\n",
              "      box-shadow: 0px 1px 2px rgba(60, 64, 67, 0.3), 0px 1px 3px 1px rgba(60, 64, 67, 0.15);\n",
              "      fill: #174EA6;\n",
              "    }\n",
              "\n",
              "    [theme=dark] .colab-df-convert {\n",
              "      background-color: #3B4455;\n",
              "      fill: #D2E3FC;\n",
              "    }\n",
              "\n",
              "    [theme=dark] .colab-df-convert:hover {\n",
              "      background-color: #434B5C;\n",
              "      box-shadow: 0px 1px 3px 1px rgba(0, 0, 0, 0.15);\n",
              "      filter: drop-shadow(0px 1px 2px rgba(0, 0, 0, 0.3));\n",
              "      fill: #FFFFFF;\n",
              "    }\n",
              "  </style>\n",
              "\n",
              "      <script>\n",
              "        const buttonEl =\n",
              "          document.querySelector('#df-bdebd358-54ca-4a94-a5ad-d4f35aaf061d button.colab-df-convert');\n",
              "        buttonEl.style.display =\n",
              "          google.colab.kernel.accessAllowed ? 'block' : 'none';\n",
              "\n",
              "        async function convertToInteractive(key) {\n",
              "          const element = document.querySelector('#df-bdebd358-54ca-4a94-a5ad-d4f35aaf061d');\n",
              "          const dataTable =\n",
              "            await google.colab.kernel.invokeFunction('convertToInteractive',\n",
              "                                                     [key], {});\n",
              "          if (!dataTable) return;\n",
              "\n",
              "          const docLinkHtml = 'Like what you see? Visit the ' +\n",
              "            '<a target=\"_blank\" href=https://colab.research.google.com/notebooks/data_table.ipynb>data table notebook</a>'\n",
              "            + ' to learn more about interactive tables.';\n",
              "          element.innerHTML = '';\n",
              "          dataTable['output_type'] = 'display_data';\n",
              "          await google.colab.output.renderOutput(dataTable, element);\n",
              "          const docLink = document.createElement('div');\n",
              "          docLink.innerHTML = docLinkHtml;\n",
              "          element.appendChild(docLink);\n",
              "        }\n",
              "      </script>\n",
              "    </div>\n",
              "  </div>\n",
              "  "
            ]
          },
          "metadata": {},
          "execution_count": 42
        }
      ]
    },
    {
      "cell_type": "code",
      "source": [
        "### Filling the missing values\n",
        "cryosleep_idx = df[df['CryoSleep'].isna()].index\n",
        "cryosleep_mode = df.groupby('Expenditure')['CryoSleep'].transform(func = lambda x: x.fillna(pd.Series.mode(x)[0]))\n",
        "df.loc[cryosleep_idx, 'CryoSleep'] = cryosleep_mode[cryosleep_idx]\n",
        "\n",
        "print('Number of CryoSleep missing values left is {}'.format(df['CryoSleep'].isna().sum()))"
      ],
      "metadata": {
        "colab": {
          "base_uri": "https://localhost:8080/"
        },
        "id": "crhVWJ5UxI2R",
        "outputId": "d9b70e32-8f20-4d24-e1ff-2d2285219375"
      },
      "execution_count": null,
      "outputs": [
        {
          "output_type": "stream",
          "name": "stdout",
          "text": [
            "Number of CryoSleep missing values left is 0\n"
          ]
        }
      ]
    },
    {
      "cell_type": "markdown",
      "source": [
        "> > #### *1.10. AGE*"
      ],
      "metadata": {
        "id": "z0wqbDkuyxoj"
      }
    },
    {
      "cell_type": "markdown",
      "source": [
        "Age might depends on various features such as HomePlanet, InPerson, Expenditure, CabinDeck, etc. Thus, we try to add the missing values based on these hints"
      ],
      "metadata": {
        "id": "_i5vJmuLzFLH"
      }
    },
    {
      "cell_type": "code",
      "source": [
        "df.groupby(['HomePlanet', 'Expenditure','InPerson', 'CabinDeck'])['Age'].median().unstack()"
      ],
      "metadata": {
        "colab": {
          "base_uri": "https://localhost:8080/",
          "height": 457
        },
        "id": "8INYgxR3zUBC",
        "outputId": "81b050f8-71e7-49dc-fc9d-79381ddcab55"
      },
      "execution_count": null,
      "outputs": [
        {
          "output_type": "execute_result",
          "data": {
            "text/plain": [
              "CabinDeck                           A     B     C     D     E     F     G  \\\n",
              "HomePlanet Expenditure InPerson                                             \n",
              "Earth      0           0          NaN   NaN   NaN   NaN   7.0  16.0   8.0   \n",
              "                       1          NaN   NaN   NaN   NaN  21.0  21.5  23.0   \n",
              "           1           0          NaN   NaN   NaN   NaN  24.0  25.0  28.0   \n",
              "                       1          NaN   NaN   NaN   NaN  25.0  24.0  26.0   \n",
              "Europa     0           0         30.0  27.0  28.5  27.0  28.0   NaN   NaN   \n",
              "                       1         37.5  34.0  35.0  31.0  33.0   NaN   NaN   \n",
              "           1           0         35.0  34.0  33.0  33.0  34.0   NaN   NaN   \n",
              "                       1         35.0  36.0  35.5  34.0  35.0   NaN   NaN   \n",
              "Mars       0           0          NaN   NaN   NaN  29.5  26.0  18.0   NaN   \n",
              "                       1          NaN   NaN   NaN  33.0  30.0  29.5   NaN   \n",
              "           1           0          NaN   NaN   NaN  30.0  29.0  29.0   NaN   \n",
              "                       1          NaN   NaN   NaN  31.0  28.5  30.0   NaN   \n",
              "\n",
              "CabinDeck                           T  \n",
              "HomePlanet Expenditure InPerson        \n",
              "Earth      0           0          NaN  \n",
              "                       1          NaN  \n",
              "           1           0          NaN  \n",
              "                       1          NaN  \n",
              "Europa     0           0          NaN  \n",
              "                       1          NaN  \n",
              "           1           0         44.0  \n",
              "                       1         35.0  \n",
              "Mars       0           0          NaN  \n",
              "                       1          NaN  \n",
              "           1           0          NaN  \n",
              "                       1          NaN  "
            ],
            "text/html": [
              "\n",
              "  <div id=\"df-9a17544e-2127-49db-8184-738fff4c1bfe\">\n",
              "    <div class=\"colab-df-container\">\n",
              "      <div>\n",
              "<style scoped>\n",
              "    .dataframe tbody tr th:only-of-type {\n",
              "        vertical-align: middle;\n",
              "    }\n",
              "\n",
              "    .dataframe tbody tr th {\n",
              "        vertical-align: top;\n",
              "    }\n",
              "\n",
              "    .dataframe thead th {\n",
              "        text-align: right;\n",
              "    }\n",
              "</style>\n",
              "<table border=\"1\" class=\"dataframe\">\n",
              "  <thead>\n",
              "    <tr style=\"text-align: right;\">\n",
              "      <th></th>\n",
              "      <th></th>\n",
              "      <th>CabinDeck</th>\n",
              "      <th>A</th>\n",
              "      <th>B</th>\n",
              "      <th>C</th>\n",
              "      <th>D</th>\n",
              "      <th>E</th>\n",
              "      <th>F</th>\n",
              "      <th>G</th>\n",
              "      <th>T</th>\n",
              "    </tr>\n",
              "    <tr>\n",
              "      <th>HomePlanet</th>\n",
              "      <th>Expenditure</th>\n",
              "      <th>InPerson</th>\n",
              "      <th></th>\n",
              "      <th></th>\n",
              "      <th></th>\n",
              "      <th></th>\n",
              "      <th></th>\n",
              "      <th></th>\n",
              "      <th></th>\n",
              "      <th></th>\n",
              "    </tr>\n",
              "  </thead>\n",
              "  <tbody>\n",
              "    <tr>\n",
              "      <th rowspan=\"4\" valign=\"top\">Earth</th>\n",
              "      <th rowspan=\"2\" valign=\"top\">0</th>\n",
              "      <th>0</th>\n",
              "      <td>NaN</td>\n",
              "      <td>NaN</td>\n",
              "      <td>NaN</td>\n",
              "      <td>NaN</td>\n",
              "      <td>7.0</td>\n",
              "      <td>16.0</td>\n",
              "      <td>8.0</td>\n",
              "      <td>NaN</td>\n",
              "    </tr>\n",
              "    <tr>\n",
              "      <th>1</th>\n",
              "      <td>NaN</td>\n",
              "      <td>NaN</td>\n",
              "      <td>NaN</td>\n",
              "      <td>NaN</td>\n",
              "      <td>21.0</td>\n",
              "      <td>21.5</td>\n",
              "      <td>23.0</td>\n",
              "      <td>NaN</td>\n",
              "    </tr>\n",
              "    <tr>\n",
              "      <th rowspan=\"2\" valign=\"top\">1</th>\n",
              "      <th>0</th>\n",
              "      <td>NaN</td>\n",
              "      <td>NaN</td>\n",
              "      <td>NaN</td>\n",
              "      <td>NaN</td>\n",
              "      <td>24.0</td>\n",
              "      <td>25.0</td>\n",
              "      <td>28.0</td>\n",
              "      <td>NaN</td>\n",
              "    </tr>\n",
              "    <tr>\n",
              "      <th>1</th>\n",
              "      <td>NaN</td>\n",
              "      <td>NaN</td>\n",
              "      <td>NaN</td>\n",
              "      <td>NaN</td>\n",
              "      <td>25.0</td>\n",
              "      <td>24.0</td>\n",
              "      <td>26.0</td>\n",
              "      <td>NaN</td>\n",
              "    </tr>\n",
              "    <tr>\n",
              "      <th rowspan=\"4\" valign=\"top\">Europa</th>\n",
              "      <th rowspan=\"2\" valign=\"top\">0</th>\n",
              "      <th>0</th>\n",
              "      <td>30.0</td>\n",
              "      <td>27.0</td>\n",
              "      <td>28.5</td>\n",
              "      <td>27.0</td>\n",
              "      <td>28.0</td>\n",
              "      <td>NaN</td>\n",
              "      <td>NaN</td>\n",
              "      <td>NaN</td>\n",
              "    </tr>\n",
              "    <tr>\n",
              "      <th>1</th>\n",
              "      <td>37.5</td>\n",
              "      <td>34.0</td>\n",
              "      <td>35.0</td>\n",
              "      <td>31.0</td>\n",
              "      <td>33.0</td>\n",
              "      <td>NaN</td>\n",
              "      <td>NaN</td>\n",
              "      <td>NaN</td>\n",
              "    </tr>\n",
              "    <tr>\n",
              "      <th rowspan=\"2\" valign=\"top\">1</th>\n",
              "      <th>0</th>\n",
              "      <td>35.0</td>\n",
              "      <td>34.0</td>\n",
              "      <td>33.0</td>\n",
              "      <td>33.0</td>\n",
              "      <td>34.0</td>\n",
              "      <td>NaN</td>\n",
              "      <td>NaN</td>\n",
              "      <td>44.0</td>\n",
              "    </tr>\n",
              "    <tr>\n",
              "      <th>1</th>\n",
              "      <td>35.0</td>\n",
              "      <td>36.0</td>\n",
              "      <td>35.5</td>\n",
              "      <td>34.0</td>\n",
              "      <td>35.0</td>\n",
              "      <td>NaN</td>\n",
              "      <td>NaN</td>\n",
              "      <td>35.0</td>\n",
              "    </tr>\n",
              "    <tr>\n",
              "      <th rowspan=\"4\" valign=\"top\">Mars</th>\n",
              "      <th rowspan=\"2\" valign=\"top\">0</th>\n",
              "      <th>0</th>\n",
              "      <td>NaN</td>\n",
              "      <td>NaN</td>\n",
              "      <td>NaN</td>\n",
              "      <td>29.5</td>\n",
              "      <td>26.0</td>\n",
              "      <td>18.0</td>\n",
              "      <td>NaN</td>\n",
              "      <td>NaN</td>\n",
              "    </tr>\n",
              "    <tr>\n",
              "      <th>1</th>\n",
              "      <td>NaN</td>\n",
              "      <td>NaN</td>\n",
              "      <td>NaN</td>\n",
              "      <td>33.0</td>\n",
              "      <td>30.0</td>\n",
              "      <td>29.5</td>\n",
              "      <td>NaN</td>\n",
              "      <td>NaN</td>\n",
              "    </tr>\n",
              "    <tr>\n",
              "      <th rowspan=\"2\" valign=\"top\">1</th>\n",
              "      <th>0</th>\n",
              "      <td>NaN</td>\n",
              "      <td>NaN</td>\n",
              "      <td>NaN</td>\n",
              "      <td>30.0</td>\n",
              "      <td>29.0</td>\n",
              "      <td>29.0</td>\n",
              "      <td>NaN</td>\n",
              "      <td>NaN</td>\n",
              "    </tr>\n",
              "    <tr>\n",
              "      <th>1</th>\n",
              "      <td>NaN</td>\n",
              "      <td>NaN</td>\n",
              "      <td>NaN</td>\n",
              "      <td>31.0</td>\n",
              "      <td>28.5</td>\n",
              "      <td>30.0</td>\n",
              "      <td>NaN</td>\n",
              "      <td>NaN</td>\n",
              "    </tr>\n",
              "  </tbody>\n",
              "</table>\n",
              "</div>\n",
              "      <button class=\"colab-df-convert\" onclick=\"convertToInteractive('df-9a17544e-2127-49db-8184-738fff4c1bfe')\"\n",
              "              title=\"Convert this dataframe to an interactive table.\"\n",
              "              style=\"display:none;\">\n",
              "        \n",
              "  <svg xmlns=\"http://www.w3.org/2000/svg\" height=\"24px\"viewBox=\"0 0 24 24\"\n",
              "       width=\"24px\">\n",
              "    <path d=\"M0 0h24v24H0V0z\" fill=\"none\"/>\n",
              "    <path d=\"M18.56 5.44l.94 2.06.94-2.06 2.06-.94-2.06-.94-.94-2.06-.94 2.06-2.06.94zm-11 1L8.5 8.5l.94-2.06 2.06-.94-2.06-.94L8.5 2.5l-.94 2.06-2.06.94zm10 10l.94 2.06.94-2.06 2.06-.94-2.06-.94-.94-2.06-.94 2.06-2.06.94z\"/><path d=\"M17.41 7.96l-1.37-1.37c-.4-.4-.92-.59-1.43-.59-.52 0-1.04.2-1.43.59L10.3 9.45l-7.72 7.72c-.78.78-.78 2.05 0 2.83L4 21.41c.39.39.9.59 1.41.59.51 0 1.02-.2 1.41-.59l7.78-7.78 2.81-2.81c.8-.78.8-2.07 0-2.86zM5.41 20L4 18.59l7.72-7.72 1.47 1.35L5.41 20z\"/>\n",
              "  </svg>\n",
              "      </button>\n",
              "      \n",
              "  <style>\n",
              "    .colab-df-container {\n",
              "      display:flex;\n",
              "      flex-wrap:wrap;\n",
              "      gap: 12px;\n",
              "    }\n",
              "\n",
              "    .colab-df-convert {\n",
              "      background-color: #E8F0FE;\n",
              "      border: none;\n",
              "      border-radius: 50%;\n",
              "      cursor: pointer;\n",
              "      display: none;\n",
              "      fill: #1967D2;\n",
              "      height: 32px;\n",
              "      padding: 0 0 0 0;\n",
              "      width: 32px;\n",
              "    }\n",
              "\n",
              "    .colab-df-convert:hover {\n",
              "      background-color: #E2EBFA;\n",
              "      box-shadow: 0px 1px 2px rgba(60, 64, 67, 0.3), 0px 1px 3px 1px rgba(60, 64, 67, 0.15);\n",
              "      fill: #174EA6;\n",
              "    }\n",
              "\n",
              "    [theme=dark] .colab-df-convert {\n",
              "      background-color: #3B4455;\n",
              "      fill: #D2E3FC;\n",
              "    }\n",
              "\n",
              "    [theme=dark] .colab-df-convert:hover {\n",
              "      background-color: #434B5C;\n",
              "      box-shadow: 0px 1px 3px 1px rgba(0, 0, 0, 0.15);\n",
              "      filter: drop-shadow(0px 1px 2px rgba(0, 0, 0, 0.3));\n",
              "      fill: #FFFFFF;\n",
              "    }\n",
              "  </style>\n",
              "\n",
              "      <script>\n",
              "        const buttonEl =\n",
              "          document.querySelector('#df-9a17544e-2127-49db-8184-738fff4c1bfe button.colab-df-convert');\n",
              "        buttonEl.style.display =\n",
              "          google.colab.kernel.accessAllowed ? 'block' : 'none';\n",
              "\n",
              "        async function convertToInteractive(key) {\n",
              "          const element = document.querySelector('#df-9a17544e-2127-49db-8184-738fff4c1bfe');\n",
              "          const dataTable =\n",
              "            await google.colab.kernel.invokeFunction('convertToInteractive',\n",
              "                                                     [key], {});\n",
              "          if (!dataTable) return;\n",
              "\n",
              "          const docLinkHtml = 'Like what you see? Visit the ' +\n",
              "            '<a target=\"_blank\" href=https://colab.research.google.com/notebooks/data_table.ipynb>data table notebook</a>'\n",
              "            + ' to learn more about interactive tables.';\n",
              "          element.innerHTML = '';\n",
              "          dataTable['output_type'] = 'display_data';\n",
              "          await google.colab.output.renderOutput(dataTable, element);\n",
              "          const docLink = document.createElement('div');\n",
              "          docLink.innerHTML = docLinkHtml;\n",
              "          element.appendChild(docLink);\n",
              "        }\n",
              "      </script>\n",
              "    </div>\n",
              "  </div>\n",
              "  "
            ]
          },
          "metadata": {},
          "execution_count": 55
        }
      ]
    },
    {
      "cell_type": "code",
      "source": [
        "### Filling the missing values\n",
        "age_idx = df[df['Age'].isna()].index\n",
        "age_median = df.groupby(['HomePlanet', 'Expenditure','InPerson', 'CabinDeck'])['Age'].transform(lambda x: x.fillna(x.median()))\n",
        "df.loc[age_idx, 'Age'] = age_median[age_idx]\n",
        "\n",
        "print('Number of Age missing values left is {}'.format(df['Age'].isna().sum()))"
      ],
      "metadata": {
        "colab": {
          "base_uri": "https://localhost:8080/"
        },
        "id": "kA23iQFo0rgv",
        "outputId": "50258d72-cb3f-495f-942a-d7a026dca90b"
      },
      "execution_count": null,
      "outputs": [
        {
          "output_type": "stream",
          "name": "stdout",
          "text": [
            "Number of Age missing values left is 0\n"
          ]
        }
      ]
    },
    {
      "cell_type": "code",
      "source": [
        "### Seperate ages into 5 big groups\n",
        "df.loc[df['Age'] <= 12, 'AgeGroup'] = '0-12'\n",
        "df.loc[(df['Age'] > 12) & (df['Age'] < 18), 'AgeGroup'] = '12-17'\n",
        "df.loc[(df['Age'] >= 18) & (df['Age'] < 30), 'AgeGroup'] = '18-30'\n",
        "df.loc[(df['Age'] >= 30) & (df['Age'] < 50), 'AgeGroup'] = '30-50'\n",
        "df.loc[df['Age'] >= 50, 'AgeGroup'] = '50+'"
      ],
      "metadata": {
        "id": "khj9MPr5-9pD"
      },
      "execution_count": null,
      "outputs": []
    },
    {
      "cell_type": "markdown",
      "source": [
        "> > #### *1.11. EXPENDITURE*"
      ],
      "metadata": {
        "id": "dCf3gUvd8e2k"
      }
    },
    {
      "cell_type": "markdown",
      "source": [
        "> > > Expenditure and CryoSleep\n",
        "\n",
        "As we said, those who choose CryoSleep will not spend on any services"
      ],
      "metadata": {
        "id": "OUsug5Zk8kkV"
      }
    },
    {
      "cell_type": "code",
      "source": [
        "for service in extra_services:\n",
        "  df.loc[(df[service].isna()) & (df['CryoSleep'] == True), service] = 0\n",
        "\n",
        "print('Number of extra services missing values is {}'.format(df[extra_services].isna().sum().sum()))"
      ],
      "metadata": {
        "id": "KJgBRc-q09Li",
        "colab": {
          "base_uri": "https://localhost:8080/"
        },
        "outputId": "4bd6299a-7661-4824-bb26-b64777834b68"
      },
      "execution_count": null,
      "outputs": [
        {
          "output_type": "stream",
          "name": "stdout",
          "text": [
            "Number of extra services missing values is 866\n"
          ]
        }
      ]
    },
    {
      "cell_type": "markdown",
      "source": [
        "> > > Expenditure and other features"
      ],
      "metadata": {
        "id": "2sK0SceAARec"
      }
    },
    {
      "cell_type": "markdown",
      "source": [
        "Expenditure varies across many features but we will only impute missing values using HomePlanet, InPerson and Age group to prevent overfitting. We will also use the mean instead of the median because a large proportion of passengers don't spend anything and median usually comes out as 0. Note how under 12's don't spend anything."
      ],
      "metadata": {
        "id": "KBo6kb6JAU5U"
      }
    },
    {
      "cell_type": "code",
      "source": [
        "df.groupby(['HomePlanet', 'InPerson', 'AgeGroup'])['ExtraServices'].mean().unstack()"
      ],
      "metadata": {
        "colab": {
          "base_uri": "https://localhost:8080/",
          "height": 269
        },
        "id": "GJkmgJv5ARLq",
        "outputId": "e43cc644-5817-49e5-cb87-95bd9b514fb5"
      },
      "execution_count": null,
      "outputs": [
        {
          "output_type": "execute_result",
          "data": {
            "text/plain": [
              "AgeGroup             0-12        12-17        18-30        30-50          50+\n",
              "HomePlanet InPerson                                                          \n",
              "Earth      0          0.0   724.902222   794.461431   761.139583   709.716535\n",
              "           1          0.0   693.014898   780.113036   803.610451   810.024590\n",
              "Europa     0          0.0  1153.160256  3133.115282  3947.082022  3398.630350\n",
              "           1          NaN     0.000000  3206.810127  4006.734242  3861.372781\n",
              "Mars       0          0.0  1176.839286  1189.869141  1140.086420  1360.907563\n",
              "           1          0.0  1687.261538  1102.793443  1109.956044  1038.463087"
            ],
            "text/html": [
              "\n",
              "  <div id=\"df-f1f8ded6-3ee6-4fa7-8981-465241377338\">\n",
              "    <div class=\"colab-df-container\">\n",
              "      <div>\n",
              "<style scoped>\n",
              "    .dataframe tbody tr th:only-of-type {\n",
              "        vertical-align: middle;\n",
              "    }\n",
              "\n",
              "    .dataframe tbody tr th {\n",
              "        vertical-align: top;\n",
              "    }\n",
              "\n",
              "    .dataframe thead th {\n",
              "        text-align: right;\n",
              "    }\n",
              "</style>\n",
              "<table border=\"1\" class=\"dataframe\">\n",
              "  <thead>\n",
              "    <tr style=\"text-align: right;\">\n",
              "      <th></th>\n",
              "      <th>AgeGroup</th>\n",
              "      <th>0-12</th>\n",
              "      <th>12-17</th>\n",
              "      <th>18-30</th>\n",
              "      <th>30-50</th>\n",
              "      <th>50+</th>\n",
              "    </tr>\n",
              "    <tr>\n",
              "      <th>HomePlanet</th>\n",
              "      <th>InPerson</th>\n",
              "      <th></th>\n",
              "      <th></th>\n",
              "      <th></th>\n",
              "      <th></th>\n",
              "      <th></th>\n",
              "    </tr>\n",
              "  </thead>\n",
              "  <tbody>\n",
              "    <tr>\n",
              "      <th rowspan=\"2\" valign=\"top\">Earth</th>\n",
              "      <th>0</th>\n",
              "      <td>0.0</td>\n",
              "      <td>724.902222</td>\n",
              "      <td>794.461431</td>\n",
              "      <td>761.139583</td>\n",
              "      <td>709.716535</td>\n",
              "    </tr>\n",
              "    <tr>\n",
              "      <th>1</th>\n",
              "      <td>0.0</td>\n",
              "      <td>693.014898</td>\n",
              "      <td>780.113036</td>\n",
              "      <td>803.610451</td>\n",
              "      <td>810.024590</td>\n",
              "    </tr>\n",
              "    <tr>\n",
              "      <th rowspan=\"2\" valign=\"top\">Europa</th>\n",
              "      <th>0</th>\n",
              "      <td>0.0</td>\n",
              "      <td>1153.160256</td>\n",
              "      <td>3133.115282</td>\n",
              "      <td>3947.082022</td>\n",
              "      <td>3398.630350</td>\n",
              "    </tr>\n",
              "    <tr>\n",
              "      <th>1</th>\n",
              "      <td>NaN</td>\n",
              "      <td>0.000000</td>\n",
              "      <td>3206.810127</td>\n",
              "      <td>4006.734242</td>\n",
              "      <td>3861.372781</td>\n",
              "    </tr>\n",
              "    <tr>\n",
              "      <th rowspan=\"2\" valign=\"top\">Mars</th>\n",
              "      <th>0</th>\n",
              "      <td>0.0</td>\n",
              "      <td>1176.839286</td>\n",
              "      <td>1189.869141</td>\n",
              "      <td>1140.086420</td>\n",
              "      <td>1360.907563</td>\n",
              "    </tr>\n",
              "    <tr>\n",
              "      <th>1</th>\n",
              "      <td>0.0</td>\n",
              "      <td>1687.261538</td>\n",
              "      <td>1102.793443</td>\n",
              "      <td>1109.956044</td>\n",
              "      <td>1038.463087</td>\n",
              "    </tr>\n",
              "  </tbody>\n",
              "</table>\n",
              "</div>\n",
              "      <button class=\"colab-df-convert\" onclick=\"convertToInteractive('df-f1f8ded6-3ee6-4fa7-8981-465241377338')\"\n",
              "              title=\"Convert this dataframe to an interactive table.\"\n",
              "              style=\"display:none;\">\n",
              "        \n",
              "  <svg xmlns=\"http://www.w3.org/2000/svg\" height=\"24px\"viewBox=\"0 0 24 24\"\n",
              "       width=\"24px\">\n",
              "    <path d=\"M0 0h24v24H0V0z\" fill=\"none\"/>\n",
              "    <path d=\"M18.56 5.44l.94 2.06.94-2.06 2.06-.94-2.06-.94-.94-2.06-.94 2.06-2.06.94zm-11 1L8.5 8.5l.94-2.06 2.06-.94-2.06-.94L8.5 2.5l-.94 2.06-2.06.94zm10 10l.94 2.06.94-2.06 2.06-.94-2.06-.94-.94-2.06-.94 2.06-2.06.94z\"/><path d=\"M17.41 7.96l-1.37-1.37c-.4-.4-.92-.59-1.43-.59-.52 0-1.04.2-1.43.59L10.3 9.45l-7.72 7.72c-.78.78-.78 2.05 0 2.83L4 21.41c.39.39.9.59 1.41.59.51 0 1.02-.2 1.41-.59l7.78-7.78 2.81-2.81c.8-.78.8-2.07 0-2.86zM5.41 20L4 18.59l7.72-7.72 1.47 1.35L5.41 20z\"/>\n",
              "  </svg>\n",
              "      </button>\n",
              "      \n",
              "  <style>\n",
              "    .colab-df-container {\n",
              "      display:flex;\n",
              "      flex-wrap:wrap;\n",
              "      gap: 12px;\n",
              "    }\n",
              "\n",
              "    .colab-df-convert {\n",
              "      background-color: #E8F0FE;\n",
              "      border: none;\n",
              "      border-radius: 50%;\n",
              "      cursor: pointer;\n",
              "      display: none;\n",
              "      fill: #1967D2;\n",
              "      height: 32px;\n",
              "      padding: 0 0 0 0;\n",
              "      width: 32px;\n",
              "    }\n",
              "\n",
              "    .colab-df-convert:hover {\n",
              "      background-color: #E2EBFA;\n",
              "      box-shadow: 0px 1px 2px rgba(60, 64, 67, 0.3), 0px 1px 3px 1px rgba(60, 64, 67, 0.15);\n",
              "      fill: #174EA6;\n",
              "    }\n",
              "\n",
              "    [theme=dark] .colab-df-convert {\n",
              "      background-color: #3B4455;\n",
              "      fill: #D2E3FC;\n",
              "    }\n",
              "\n",
              "    [theme=dark] .colab-df-convert:hover {\n",
              "      background-color: #434B5C;\n",
              "      box-shadow: 0px 1px 3px 1px rgba(0, 0, 0, 0.15);\n",
              "      filter: drop-shadow(0px 1px 2px rgba(0, 0, 0, 0.3));\n",
              "      fill: #FFFFFF;\n",
              "    }\n",
              "  </style>\n",
              "\n",
              "      <script>\n",
              "        const buttonEl =\n",
              "          document.querySelector('#df-f1f8ded6-3ee6-4fa7-8981-465241377338 button.colab-df-convert');\n",
              "        buttonEl.style.display =\n",
              "          google.colab.kernel.accessAllowed ? 'block' : 'none';\n",
              "\n",
              "        async function convertToInteractive(key) {\n",
              "          const element = document.querySelector('#df-f1f8ded6-3ee6-4fa7-8981-465241377338');\n",
              "          const dataTable =\n",
              "            await google.colab.kernel.invokeFunction('convertToInteractive',\n",
              "                                                     [key], {});\n",
              "          if (!dataTable) return;\n",
              "\n",
              "          const docLinkHtml = 'Like what you see? Visit the ' +\n",
              "            '<a target=\"_blank\" href=https://colab.research.google.com/notebooks/data_table.ipynb>data table notebook</a>'\n",
              "            + ' to learn more about interactive tables.';\n",
              "          element.innerHTML = '';\n",
              "          dataTable['output_type'] = 'display_data';\n",
              "          await google.colab.output.renderOutput(dataTable, element);\n",
              "          const docLink = document.createElement('div');\n",
              "          docLink.innerHTML = docLinkHtml;\n",
              "          element.appendChild(docLink);\n",
              "        }\n",
              "      </script>\n",
              "    </div>\n",
              "  </div>\n",
              "  "
            ]
          },
          "metadata": {},
          "execution_count": 58
        }
      ]
    },
    {
      "cell_type": "code",
      "source": [
        "for service in extra_services:\n",
        "  idx = df[df[service].isna()].index\n",
        "  service_mean = df.groupby(['HomePlanet', 'InPerson', 'AgeGroup'])[service].transform(lambda x: x.fillna(x.mean()))\n",
        "  df.loc[idx, service] = service_mean[idx]\n",
        "\n",
        "print('Number of expenditure missing values is {}'.format(df[extra_services].isna().sum().sum()))"
      ],
      "metadata": {
        "colab": {
          "base_uri": "https://localhost:8080/"
        },
        "id": "AdUJ6xJ6AvN9",
        "outputId": "6c649f63-70bd-42fe-b7a7-daa87975be2f"
      },
      "execution_count": null,
      "outputs": [
        {
          "output_type": "stream",
          "name": "stdout",
          "text": [
            "Number of expenditure missing values is 0\n"
          ]
        }
      ]
    },
    {
      "cell_type": "code",
      "source": [
        "### Update ExtraServices and Expenditure\n",
        "df['ExtraServices'] = df[extra_services].sum(axis = 1)\n",
        "df['Expenditure'] = (df['ExtraServices'] != 0).astype(int)"
      ],
      "metadata": {
        "id": "pHsGMUv3CuEm"
      },
      "execution_count": null,
      "outputs": []
    },
    {
      "cell_type": "markdown",
      "source": [
        "<br>\n",
        "<br>\n",
        "---------------------------------------------------\n",
        "\n",
        "We finish imputing data. Let's look at again our data"
      ],
      "metadata": {
        "id": "r2tN9XOiDLyT"
      }
    },
    {
      "cell_type": "code",
      "source": [
        "df.columns"
      ],
      "metadata": {
        "colab": {
          "base_uri": "https://localhost:8080/"
        },
        "id": "9S97syKfDPJV",
        "outputId": "f0bd7383-2f5e-4c36-adf1-27f21eb912e5"
      },
      "execution_count": null,
      "outputs": [
        {
          "output_type": "execute_result",
          "data": {
            "text/plain": [
              "Index(['PassengerId', 'HomePlanet', 'CryoSleep', 'Destination', 'Age', 'VIP',\n",
              "       'RoomService', 'FoodCourt', 'ShoppingMall', 'Spa', 'VRDeck', 'GroupID',\n",
              "       'GroupSize', 'InPerson', 'CabinDeck', 'CabinNumber', 'CabinSide',\n",
              "       'ExtraServices', 'Expenditure', 'AgeGroup', 'CabinRegion'],\n",
              "      dtype='object')"
            ]
          },
          "metadata": {},
          "execution_count": 72
        }
      ]
    },
    {
      "cell_type": "code",
      "source": [
        "df.drop(columns = ['Surname', 'Cabin', 'Name'], inplace = True)\n",
        "df.isna().sum()"
      ],
      "metadata": {
        "colab": {
          "base_uri": "https://localhost:8080/"
        },
        "id": "vqFJLOzWDwXZ",
        "outputId": "07ea4743-9c2b-4fae-acad-e675090e23cc"
      },
      "execution_count": null,
      "outputs": [
        {
          "output_type": "execute_result",
          "data": {
            "text/plain": [
              "PassengerId      0\n",
              "HomePlanet       0\n",
              "CryoSleep        0\n",
              "Destination      0\n",
              "Age              0\n",
              "                ..\n",
              "CabinSide        0\n",
              "ExtraServices    0\n",
              "Expenditure      0\n",
              "AgeGroup         0\n",
              "CabinRegion      0\n",
              "Length: 21, dtype: int64"
            ]
          },
          "metadata": {},
          "execution_count": 73
        }
      ]
    },
    {
      "cell_type": "markdown",
      "source": [
        "**No missing values left!** It was a lot of effort but it should improve the accuracy of our models."
      ],
      "metadata": {
        "id": "qeX4ZtSrEovw"
      }
    },
    {
      "cell_type": "code",
      "source": [
        "df.to_csv()\n",
        "files.download('df.csv')"
      ],
      "metadata": {
        "colab": {
          "base_uri": "https://localhost:8080/",
          "height": 17
        },
        "id": "i00J95lxEvLl",
        "outputId": "8fe95d1b-cad3-40e8-96fb-386a26f792c6"
      },
      "execution_count": null,
      "outputs": [
        {
          "output_type": "display_data",
          "data": {
            "text/plain": [
              "<IPython.core.display.Javascript object>"
            ],
            "application/javascript": [
              "\n",
              "    async function download(id, filename, size) {\n",
              "      if (!google.colab.kernel.accessAllowed) {\n",
              "        return;\n",
              "      }\n",
              "      const div = document.createElement('div');\n",
              "      const label = document.createElement('label');\n",
              "      label.textContent = `Downloading \"${filename}\": `;\n",
              "      div.appendChild(label);\n",
              "      const progress = document.createElement('progress');\n",
              "      progress.max = size;\n",
              "      div.appendChild(progress);\n",
              "      document.body.appendChild(div);\n",
              "\n",
              "      const buffers = [];\n",
              "      let downloaded = 0;\n",
              "\n",
              "      const channel = await google.colab.kernel.comms.open(id);\n",
              "      // Send a message to notify the kernel that we're ready.\n",
              "      channel.send({})\n",
              "\n",
              "      for await (const message of channel.messages) {\n",
              "        // Send a message to notify the kernel that we're ready.\n",
              "        channel.send({})\n",
              "        if (message.buffers) {\n",
              "          for (const buffer of message.buffers) {\n",
              "            buffers.push(buffer);\n",
              "            downloaded += buffer.byteLength;\n",
              "            progress.value = downloaded;\n",
              "          }\n",
              "        }\n",
              "      }\n",
              "      const blob = new Blob(buffers, {type: 'application/binary'});\n",
              "      const a = document.createElement('a');\n",
              "      a.href = window.URL.createObjectURL(blob);\n",
              "      a.download = filename;\n",
              "      div.appendChild(a);\n",
              "      a.click();\n",
              "      div.remove();\n",
              "    }\n",
              "  "
            ]
          },
          "metadata": {}
        },
        {
          "output_type": "display_data",
          "data": {
            "text/plain": [
              "<IPython.core.display.Javascript object>"
            ],
            "application/javascript": [
              "download(\"download_84e40697-8407-495c-b238-36a6905ce528\", \"df.csv\", 1492987)"
            ]
          },
          "metadata": {}
        }
      ]
    },
    {
      "cell_type": "code",
      "source": [],
      "metadata": {
        "id": "cg8qz8HyHMTL"
      },
      "execution_count": null,
      "outputs": []
    }
  ]
}