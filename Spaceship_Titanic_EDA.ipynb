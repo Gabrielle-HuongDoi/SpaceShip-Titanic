{
  "cells": [
    {
      "cell_type": "markdown",
      "metadata": {
        "id": "_5PGnBz5DRb7"
      },
      "source": [
        "## <center> SPACESHIP TITANIC\n",
        "\n",
        "Spaceship Titanic is a Kaggle machine learning competition.\n",
        "\n",
        "The Spaceship Titanic was an interstellar passenger liner launched a month ago. With almost 13,000 passengers on board, the vessel set out on its maiden voyage transporting emigrants from our solar system to three newly habitable exoplanets orbiting nearby stars.\n",
        "\n",
        "While rounding Alpha Centauri en route to its first destination—the torrid 55 Cancri E—the unwary Spaceship Titanic collided with a spacetime anomaly hidden within a dust cloud. Sadly, it met a similar fate as its namesake from 1000 years before. Though the ship stayed intact, almost half of the passengers were transported to an alternate dimension!\n",
        "\n",
        "To help rescue crews and retrieve the lost passengers, you are challenged to predict which passengers were transported by the anomaly using records recovered from the spaceship’s damaged computer system."
      ]
    },
    {
      "cell_type": "markdown",
      "metadata": {
        "id": "M5xLy1-ADWk7"
      },
      "source": [
        "### <center> 1. Library and Data"
      ]
    },
    {
      "cell_type": "markdown",
      "metadata": {
        "id": "q7HbR5GpDjqf"
      },
      "source": [
        "1.1. Import some core packages"
      ]
    },
    {
      "cell_type": "code",
      "execution_count": null,
      "metadata": {
        "id": "1IsZRcuhCUCG"
      },
      "outputs": [],
      "source": [
        "import pandas as pd\n",
        "import numpy as np\n",
        "import matplotlib.pyplot as plt\n",
        "import seaborn as sns\n",
        "\n",
        "# Display format\n",
        "pd.options.display.max_rows = 20\n",
        "pd.options.display.max_columns = 15\n",
        "%matplotlib inline"
      ]
    },
    {
      "cell_type": "markdown",
      "metadata": {
        "id": "gYdtL9JqEZvA"
      },
      "source": [
        "1.2. Loading data"
      ]
    },
    {
      "cell_type": "code",
      "execution_count": null,
      "metadata": {
        "colab": {
          "base_uri": "https://localhost:8080/",
          "height": 114,
          "resources": {
            "http://localhost:8080/nbextensions/google.colab/files.js": {
              "data": "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",
              "headers": [
                [
                  "content-type",
                  "application/javascript"
                ]
              ],
              "ok": true,
              "status": 200,
              "status_text": ""
            }
          }
        },
        "id": "hK4klNGvEZUQ",
        "outputId": "6f634aa8-b9bd-4cdf-a6d5-41564f2708a8"
      },
      "outputs": [
        {
          "output_type": "display_data",
          "data": {
            "text/plain": [
              "<IPython.core.display.HTML object>"
            ],
            "text/html": [
              "\n",
              "     <input type=\"file\" id=\"files-fe5304f3-aad6-4f8d-9600-5613ae671647\" name=\"files[]\" multiple disabled\n",
              "        style=\"border:none\" />\n",
              "     <output id=\"result-fe5304f3-aad6-4f8d-9600-5613ae671647\">\n",
              "      Upload widget is only available when the cell has been executed in the\n",
              "      current browser session. Please rerun this cell to enable.\n",
              "      </output>\n",
              "      <script src=\"/nbextensions/google.colab/files.js\"></script> "
            ]
          },
          "metadata": {}
        },
        {
          "output_type": "stream",
          "name": "stdout",
          "text": [
            "Saving test.csv to test.csv\n",
            "Saving train.csv to train.csv\n"
          ]
        }
      ],
      "source": [
        "## I use Google Colab Jupiter Notebook, these lines are necessary to import file.\n",
        "## If you use local Jupier Notebook, please skip this step\n",
        "\n",
        "from google.colab import files\n",
        "upload = files.upload()"
      ]
    },
    {
      "cell_type": "code",
      "execution_count": null,
      "metadata": {
        "colab": {
          "base_uri": "https://localhost:8080/",
          "height": 447
        },
        "id": "FWDH5wbmFa6q",
        "outputId": "4132db0d-d874-4dfe-b5c4-e70eb9419e24"
      },
      "outputs": [
        {
          "output_type": "stream",
          "name": "stdout",
          "text": [
            "Train data has 14 rows and 8693 columns\n",
            "\n",
            "Test data has 13 rows and 4277 columns\n",
            "\n",
            "Train sample\n"
          ]
        },
        {
          "output_type": "execute_result",
          "data": {
            "text/plain": [
              "  PassengerId HomePlanet CryoSleep  Cabin  Destination   Age    VIP  \\\n",
              "0     0001_01     Europa     False  B/0/P  TRAPPIST-1e  39.0  False   \n",
              "1     0002_01      Earth     False  F/0/S  TRAPPIST-1e  24.0  False   \n",
              "2     0003_01     Europa     False  A/0/S  TRAPPIST-1e  58.0   True   \n",
              "3     0003_02     Europa     False  A/0/S  TRAPPIST-1e  33.0  False   \n",
              "4     0004_01      Earth     False  F/1/S  TRAPPIST-1e  16.0  False   \n",
              "\n",
              "   RoomService  FoodCourt  ShoppingMall     Spa  VRDeck               Name  \\\n",
              "0          0.0        0.0           0.0     0.0     0.0    Maham Ofracculy   \n",
              "1        109.0        9.0          25.0   549.0    44.0       Juanna Vines   \n",
              "2         43.0     3576.0           0.0  6715.0    49.0      Altark Susent   \n",
              "3          0.0     1283.0         371.0  3329.0   193.0       Solam Susent   \n",
              "4        303.0       70.0         151.0   565.0     2.0  Willy Santantines   \n",
              "\n",
              "   Transported  \n",
              "0        False  \n",
              "1         True  \n",
              "2        False  \n",
              "3        False  \n",
              "4         True  "
            ],
            "text/html": [
              "\n",
              "  <div id=\"df-af5b19e3-5b15-4594-a539-c0ee5878f2cd\">\n",
              "    <div class=\"colab-df-container\">\n",
              "      <div>\n",
              "<style scoped>\n",
              "    .dataframe tbody tr th:only-of-type {\n",
              "        vertical-align: middle;\n",
              "    }\n",
              "\n",
              "    .dataframe tbody tr th {\n",
              "        vertical-align: top;\n",
              "    }\n",
              "\n",
              "    .dataframe thead th {\n",
              "        text-align: right;\n",
              "    }\n",
              "</style>\n",
              "<table border=\"1\" class=\"dataframe\">\n",
              "  <thead>\n",
              "    <tr style=\"text-align: right;\">\n",
              "      <th></th>\n",
              "      <th>PassengerId</th>\n",
              "      <th>HomePlanet</th>\n",
              "      <th>CryoSleep</th>\n",
              "      <th>Cabin</th>\n",
              "      <th>Destination</th>\n",
              "      <th>Age</th>\n",
              "      <th>VIP</th>\n",
              "      <th>RoomService</th>\n",
              "      <th>FoodCourt</th>\n",
              "      <th>ShoppingMall</th>\n",
              "      <th>Spa</th>\n",
              "      <th>VRDeck</th>\n",
              "      <th>Name</th>\n",
              "      <th>Transported</th>\n",
              "    </tr>\n",
              "  </thead>\n",
              "  <tbody>\n",
              "    <tr>\n",
              "      <th>0</th>\n",
              "      <td>0001_01</td>\n",
              "      <td>Europa</td>\n",
              "      <td>False</td>\n",
              "      <td>B/0/P</td>\n",
              "      <td>TRAPPIST-1e</td>\n",
              "      <td>39.0</td>\n",
              "      <td>False</td>\n",
              "      <td>0.0</td>\n",
              "      <td>0.0</td>\n",
              "      <td>0.0</td>\n",
              "      <td>0.0</td>\n",
              "      <td>0.0</td>\n",
              "      <td>Maham Ofracculy</td>\n",
              "      <td>False</td>\n",
              "    </tr>\n",
              "    <tr>\n",
              "      <th>1</th>\n",
              "      <td>0002_01</td>\n",
              "      <td>Earth</td>\n",
              "      <td>False</td>\n",
              "      <td>F/0/S</td>\n",
              "      <td>TRAPPIST-1e</td>\n",
              "      <td>24.0</td>\n",
              "      <td>False</td>\n",
              "      <td>109.0</td>\n",
              "      <td>9.0</td>\n",
              "      <td>25.0</td>\n",
              "      <td>549.0</td>\n",
              "      <td>44.0</td>\n",
              "      <td>Juanna Vines</td>\n",
              "      <td>True</td>\n",
              "    </tr>\n",
              "    <tr>\n",
              "      <th>2</th>\n",
              "      <td>0003_01</td>\n",
              "      <td>Europa</td>\n",
              "      <td>False</td>\n",
              "      <td>A/0/S</td>\n",
              "      <td>TRAPPIST-1e</td>\n",
              "      <td>58.0</td>\n",
              "      <td>True</td>\n",
              "      <td>43.0</td>\n",
              "      <td>3576.0</td>\n",
              "      <td>0.0</td>\n",
              "      <td>6715.0</td>\n",
              "      <td>49.0</td>\n",
              "      <td>Altark Susent</td>\n",
              "      <td>False</td>\n",
              "    </tr>\n",
              "    <tr>\n",
              "      <th>3</th>\n",
              "      <td>0003_02</td>\n",
              "      <td>Europa</td>\n",
              "      <td>False</td>\n",
              "      <td>A/0/S</td>\n",
              "      <td>TRAPPIST-1e</td>\n",
              "      <td>33.0</td>\n",
              "      <td>False</td>\n",
              "      <td>0.0</td>\n",
              "      <td>1283.0</td>\n",
              "      <td>371.0</td>\n",
              "      <td>3329.0</td>\n",
              "      <td>193.0</td>\n",
              "      <td>Solam Susent</td>\n",
              "      <td>False</td>\n",
              "    </tr>\n",
              "    <tr>\n",
              "      <th>4</th>\n",
              "      <td>0004_01</td>\n",
              "      <td>Earth</td>\n",
              "      <td>False</td>\n",
              "      <td>F/1/S</td>\n",
              "      <td>TRAPPIST-1e</td>\n",
              "      <td>16.0</td>\n",
              "      <td>False</td>\n",
              "      <td>303.0</td>\n",
              "      <td>70.0</td>\n",
              "      <td>151.0</td>\n",
              "      <td>565.0</td>\n",
              "      <td>2.0</td>\n",
              "      <td>Willy Santantines</td>\n",
              "      <td>True</td>\n",
              "    </tr>\n",
              "  </tbody>\n",
              "</table>\n",
              "</div>\n",
              "      <button class=\"colab-df-convert\" onclick=\"convertToInteractive('df-af5b19e3-5b15-4594-a539-c0ee5878f2cd')\"\n",
              "              title=\"Convert this dataframe to an interactive table.\"\n",
              "              style=\"display:none;\">\n",
              "        \n",
              "  <svg xmlns=\"http://www.w3.org/2000/svg\" height=\"24px\"viewBox=\"0 0 24 24\"\n",
              "       width=\"24px\">\n",
              "    <path d=\"M0 0h24v24H0V0z\" fill=\"none\"/>\n",
              "    <path d=\"M18.56 5.44l.94 2.06.94-2.06 2.06-.94-2.06-.94-.94-2.06-.94 2.06-2.06.94zm-11 1L8.5 8.5l.94-2.06 2.06-.94-2.06-.94L8.5 2.5l-.94 2.06-2.06.94zm10 10l.94 2.06.94-2.06 2.06-.94-2.06-.94-.94-2.06-.94 2.06-2.06.94z\"/><path d=\"M17.41 7.96l-1.37-1.37c-.4-.4-.92-.59-1.43-.59-.52 0-1.04.2-1.43.59L10.3 9.45l-7.72 7.72c-.78.78-.78 2.05 0 2.83L4 21.41c.39.39.9.59 1.41.59.51 0 1.02-.2 1.41-.59l7.78-7.78 2.81-2.81c.8-.78.8-2.07 0-2.86zM5.41 20L4 18.59l7.72-7.72 1.47 1.35L5.41 20z\"/>\n",
              "  </svg>\n",
              "      </button>\n",
              "      \n",
              "  <style>\n",
              "    .colab-df-container {\n",
              "      display:flex;\n",
              "      flex-wrap:wrap;\n",
              "      gap: 12px;\n",
              "    }\n",
              "\n",
              "    .colab-df-convert {\n",
              "      background-color: #E8F0FE;\n",
              "      border: none;\n",
              "      border-radius: 50%;\n",
              "      cursor: pointer;\n",
              "      display: none;\n",
              "      fill: #1967D2;\n",
              "      height: 32px;\n",
              "      padding: 0 0 0 0;\n",
              "      width: 32px;\n",
              "    }\n",
              "\n",
              "    .colab-df-convert:hover {\n",
              "      background-color: #E2EBFA;\n",
              "      box-shadow: 0px 1px 2px rgba(60, 64, 67, 0.3), 0px 1px 3px 1px rgba(60, 64, 67, 0.15);\n",
              "      fill: #174EA6;\n",
              "    }\n",
              "\n",
              "    [theme=dark] .colab-df-convert {\n",
              "      background-color: #3B4455;\n",
              "      fill: #D2E3FC;\n",
              "    }\n",
              "\n",
              "    [theme=dark] .colab-df-convert:hover {\n",
              "      background-color: #434B5C;\n",
              "      box-shadow: 0px 1px 3px 1px rgba(0, 0, 0, 0.15);\n",
              "      filter: drop-shadow(0px 1px 2px rgba(0, 0, 0, 0.3));\n",
              "      fill: #FFFFFF;\n",
              "    }\n",
              "  </style>\n",
              "\n",
              "      <script>\n",
              "        const buttonEl =\n",
              "          document.querySelector('#df-af5b19e3-5b15-4594-a539-c0ee5878f2cd button.colab-df-convert');\n",
              "        buttonEl.style.display =\n",
              "          google.colab.kernel.accessAllowed ? 'block' : 'none';\n",
              "\n",
              "        async function convertToInteractive(key) {\n",
              "          const element = document.querySelector('#df-af5b19e3-5b15-4594-a539-c0ee5878f2cd');\n",
              "          const dataTable =\n",
              "            await google.colab.kernel.invokeFunction('convertToInteractive',\n",
              "                                                     [key], {});\n",
              "          if (!dataTable) return;\n",
              "\n",
              "          const docLinkHtml = 'Like what you see? Visit the ' +\n",
              "            '<a target=\"_blank\" href=https://colab.research.google.com/notebooks/data_table.ipynb>data table notebook</a>'\n",
              "            + ' to learn more about interactive tables.';\n",
              "          element.innerHTML = '';\n",
              "          dataTable['output_type'] = 'display_data';\n",
              "          await google.colab.output.renderOutput(dataTable, element);\n",
              "          const docLink = document.createElement('div');\n",
              "          docLink.innerHTML = docLinkHtml;\n",
              "          element.appendChild(docLink);\n",
              "        }\n",
              "      </script>\n",
              "    </div>\n",
              "  </div>\n",
              "  "
            ]
          },
          "metadata": {},
          "execution_count": 4
        }
      ],
      "source": [
        "train = pd.read_csv('train.csv')\n",
        "test = pd.read_csv('test.csv')\n",
        "print('Train data has {} rows and {} columns\\n'.format(train.shape[1], train.shape[0]))\n",
        "print('Test data has {} rows and {} columns\\n'.format(test.shape[1], test.shape[0]))\n",
        "print('Train sample')\n",
        "train.head()"
      ]
    },
    {
      "cell_type": "markdown",
      "metadata": {
        "id": "caFrFUgLH9e6"
      },
      "source": [
        "1.3. Feature Description\n",
        "\n",
        "  - **PassengerId** - A unique Id for each passenger. Each Id takes the form gggg_pp where gggg indicates a group the passenger is travelling with and pp is their number within the group. People in a group are often family members, but not always.\n",
        "  - **HomePlanet** - The planet the passenger departed from, typically their planet of permanent residence.\n",
        "  - **CryoSleep** - Indicates whether the passenger elected to be put into suspended animation for the duration of the voyage. Passengers in cryosleep are confined to their cabins.\n",
        "  - **Cabin** - The cabin number where the passenger is staying. Takes the form deck/num/side, where side can be either P for Port or S for Starboard.\n",
        "  - **Destination** - The planet the passenger will be debarking to.\n",
        "  - **Age** - The age of the passenger.\n",
        "  - **VIP** - Whether the passenger has paid for special VIP service during the voyage.\n",
        "  - **RoomService, FoodCourt, ShoppingMall, Spa, VRDeck** - Amount the passenger has billed at each of the Spaceship Titanic's many luxury amenities.\n",
        "  - **Name** - The first and last names of the passenger.\n",
        "  - **Transported** - Whether the passenger was transported to another dimension. This is the target, the column you are trying to predict.\n",
        "\n",
        "<br>\n",
        "\n",
        "  **Test data does not have Transported variable which we have to predict.**"
      ]
    },
    {
      "cell_type": "markdown",
      "metadata": {
        "id": "IcR1jyxGITUh"
      },
      "source": [
        "<br>\n",
        "<br>\n",
        "\n",
        "### <center> 2. Data Structure\n",
        "\n",
        "In this section, we will try to figure out: \n",
        "  - Data types. \n",
        "  - Missing values\n",
        "  - Duplicates\n",
        "  - Cardinality of features"
      ]
    },
    {
      "cell_type": "markdown",
      "metadata": {
        "id": "xaiyyQeVJeWp"
      },
      "source": [
        "2.1. Data types"
      ]
    },
    {
      "cell_type": "code",
      "execution_count": null,
      "metadata": {
        "colab": {
          "base_uri": "https://localhost:8080/"
        },
        "id": "iWXJGWy7H3B9",
        "outputId": "4fc01484-d4c9-4663-affc-56541f69dc5f"
      },
      "outputs": [
        {
          "data": {
            "text/plain": [
              "PassengerId      object\n",
              "HomePlanet       object\n",
              "CryoSleep        object\n",
              "Cabin            object\n",
              "Destination      object\n",
              "Age             float64\n",
              "VIP              object\n",
              "RoomService     float64\n",
              "FoodCourt       float64\n",
              "ShoppingMall    float64\n",
              "Spa             float64\n",
              "VRDeck          float64\n",
              "Name             object\n",
              "Transported        bool\n",
              "dtype: object"
            ]
          },
          "execution_count": 7,
          "metadata": {},
          "output_type": "execute_result"
        }
      ],
      "source": [
        "## Data type\n",
        "train.dtypes"
      ]
    },
    {
      "cell_type": "markdown",
      "metadata": {
        "id": "GOUTJqmxKcya"
      },
      "source": [
        "2.2. Missing values"
      ]
    },
    {
      "cell_type": "code",
      "execution_count": null,
      "metadata": {
        "colab": {
          "base_uri": "https://localhost:8080/",
          "height": 488
        },
        "id": "cFYSJ5UXJnK2",
        "outputId": "f0f201f1-786b-4d24-ee7c-380412cae822"
      },
      "outputs": [
        {
          "output_type": "execute_result",
          "data": {
            "text/plain": [
              "              N/A in train set  % N/A in train set  N/A in test set  \\\n",
              "Age                        179                2.06             91.0   \n",
              "Cabin                      199                2.29            100.0   \n",
              "CryoSleep                  217                2.50             93.0   \n",
              "Destination                182                2.09             92.0   \n",
              "FoodCourt                  183                2.11            106.0   \n",
              "HomePlanet                 201                2.31             87.0   \n",
              "Name                       200                2.30             94.0   \n",
              "PassengerId                  0                0.00              0.0   \n",
              "RoomService                181                2.08             82.0   \n",
              "ShoppingMall               208                2.39             98.0   \n",
              "Spa                        183                2.11            101.0   \n",
              "Transported                  0                0.00              NaN   \n",
              "VIP                        203                2.34             93.0   \n",
              "VRDeck                     188                2.16             80.0   \n",
              "\n",
              "              % N/A in test set  \n",
              "Age                        2.13  \n",
              "Cabin                      2.34  \n",
              "CryoSleep                  2.17  \n",
              "Destination                2.15  \n",
              "FoodCourt                  2.48  \n",
              "HomePlanet                 2.03  \n",
              "Name                       2.20  \n",
              "PassengerId                0.00  \n",
              "RoomService                1.92  \n",
              "ShoppingMall               2.29  \n",
              "Spa                        2.36  \n",
              "Transported                 NaN  \n",
              "VIP                        2.17  \n",
              "VRDeck                     1.87  "
            ],
            "text/html": [
              "\n",
              "  <div id=\"df-79678040-1858-4b82-9503-dff4859b3a82\">\n",
              "    <div class=\"colab-df-container\">\n",
              "      <div>\n",
              "<style scoped>\n",
              "    .dataframe tbody tr th:only-of-type {\n",
              "        vertical-align: middle;\n",
              "    }\n",
              "\n",
              "    .dataframe tbody tr th {\n",
              "        vertical-align: top;\n",
              "    }\n",
              "\n",
              "    .dataframe thead th {\n",
              "        text-align: right;\n",
              "    }\n",
              "</style>\n",
              "<table border=\"1\" class=\"dataframe\">\n",
              "  <thead>\n",
              "    <tr style=\"text-align: right;\">\n",
              "      <th></th>\n",
              "      <th>N/A in train set</th>\n",
              "      <th>% N/A in train set</th>\n",
              "      <th>N/A in test set</th>\n",
              "      <th>% N/A in test set</th>\n",
              "    </tr>\n",
              "  </thead>\n",
              "  <tbody>\n",
              "    <tr>\n",
              "      <th>Age</th>\n",
              "      <td>179</td>\n",
              "      <td>2.06</td>\n",
              "      <td>91.0</td>\n",
              "      <td>2.13</td>\n",
              "    </tr>\n",
              "    <tr>\n",
              "      <th>Cabin</th>\n",
              "      <td>199</td>\n",
              "      <td>2.29</td>\n",
              "      <td>100.0</td>\n",
              "      <td>2.34</td>\n",
              "    </tr>\n",
              "    <tr>\n",
              "      <th>CryoSleep</th>\n",
              "      <td>217</td>\n",
              "      <td>2.50</td>\n",
              "      <td>93.0</td>\n",
              "      <td>2.17</td>\n",
              "    </tr>\n",
              "    <tr>\n",
              "      <th>Destination</th>\n",
              "      <td>182</td>\n",
              "      <td>2.09</td>\n",
              "      <td>92.0</td>\n",
              "      <td>2.15</td>\n",
              "    </tr>\n",
              "    <tr>\n",
              "      <th>FoodCourt</th>\n",
              "      <td>183</td>\n",
              "      <td>2.11</td>\n",
              "      <td>106.0</td>\n",
              "      <td>2.48</td>\n",
              "    </tr>\n",
              "    <tr>\n",
              "      <th>HomePlanet</th>\n",
              "      <td>201</td>\n",
              "      <td>2.31</td>\n",
              "      <td>87.0</td>\n",
              "      <td>2.03</td>\n",
              "    </tr>\n",
              "    <tr>\n",
              "      <th>Name</th>\n",
              "      <td>200</td>\n",
              "      <td>2.30</td>\n",
              "      <td>94.0</td>\n",
              "      <td>2.20</td>\n",
              "    </tr>\n",
              "    <tr>\n",
              "      <th>PassengerId</th>\n",
              "      <td>0</td>\n",
              "      <td>0.00</td>\n",
              "      <td>0.0</td>\n",
              "      <td>0.00</td>\n",
              "    </tr>\n",
              "    <tr>\n",
              "      <th>RoomService</th>\n",
              "      <td>181</td>\n",
              "      <td>2.08</td>\n",
              "      <td>82.0</td>\n",
              "      <td>1.92</td>\n",
              "    </tr>\n",
              "    <tr>\n",
              "      <th>ShoppingMall</th>\n",
              "      <td>208</td>\n",
              "      <td>2.39</td>\n",
              "      <td>98.0</td>\n",
              "      <td>2.29</td>\n",
              "    </tr>\n",
              "    <tr>\n",
              "      <th>Spa</th>\n",
              "      <td>183</td>\n",
              "      <td>2.11</td>\n",
              "      <td>101.0</td>\n",
              "      <td>2.36</td>\n",
              "    </tr>\n",
              "    <tr>\n",
              "      <th>Transported</th>\n",
              "      <td>0</td>\n",
              "      <td>0.00</td>\n",
              "      <td>NaN</td>\n",
              "      <td>NaN</td>\n",
              "    </tr>\n",
              "    <tr>\n",
              "      <th>VIP</th>\n",
              "      <td>203</td>\n",
              "      <td>2.34</td>\n",
              "      <td>93.0</td>\n",
              "      <td>2.17</td>\n",
              "    </tr>\n",
              "    <tr>\n",
              "      <th>VRDeck</th>\n",
              "      <td>188</td>\n",
              "      <td>2.16</td>\n",
              "      <td>80.0</td>\n",
              "      <td>1.87</td>\n",
              "    </tr>\n",
              "  </tbody>\n",
              "</table>\n",
              "</div>\n",
              "      <button class=\"colab-df-convert\" onclick=\"convertToInteractive('df-79678040-1858-4b82-9503-dff4859b3a82')\"\n",
              "              title=\"Convert this dataframe to an interactive table.\"\n",
              "              style=\"display:none;\">\n",
              "        \n",
              "  <svg xmlns=\"http://www.w3.org/2000/svg\" height=\"24px\"viewBox=\"0 0 24 24\"\n",
              "       width=\"24px\">\n",
              "    <path d=\"M0 0h24v24H0V0z\" fill=\"none\"/>\n",
              "    <path d=\"M18.56 5.44l.94 2.06.94-2.06 2.06-.94-2.06-.94-.94-2.06-.94 2.06-2.06.94zm-11 1L8.5 8.5l.94-2.06 2.06-.94-2.06-.94L8.5 2.5l-.94 2.06-2.06.94zm10 10l.94 2.06.94-2.06 2.06-.94-2.06-.94-.94-2.06-.94 2.06-2.06.94z\"/><path d=\"M17.41 7.96l-1.37-1.37c-.4-.4-.92-.59-1.43-.59-.52 0-1.04.2-1.43.59L10.3 9.45l-7.72 7.72c-.78.78-.78 2.05 0 2.83L4 21.41c.39.39.9.59 1.41.59.51 0 1.02-.2 1.41-.59l7.78-7.78 2.81-2.81c.8-.78.8-2.07 0-2.86zM5.41 20L4 18.59l7.72-7.72 1.47 1.35L5.41 20z\"/>\n",
              "  </svg>\n",
              "      </button>\n",
              "      \n",
              "  <style>\n",
              "    .colab-df-container {\n",
              "      display:flex;\n",
              "      flex-wrap:wrap;\n",
              "      gap: 12px;\n",
              "    }\n",
              "\n",
              "    .colab-df-convert {\n",
              "      background-color: #E8F0FE;\n",
              "      border: none;\n",
              "      border-radius: 50%;\n",
              "      cursor: pointer;\n",
              "      display: none;\n",
              "      fill: #1967D2;\n",
              "      height: 32px;\n",
              "      padding: 0 0 0 0;\n",
              "      width: 32px;\n",
              "    }\n",
              "\n",
              "    .colab-df-convert:hover {\n",
              "      background-color: #E2EBFA;\n",
              "      box-shadow: 0px 1px 2px rgba(60, 64, 67, 0.3), 0px 1px 3px 1px rgba(60, 64, 67, 0.15);\n",
              "      fill: #174EA6;\n",
              "    }\n",
              "\n",
              "    [theme=dark] .colab-df-convert {\n",
              "      background-color: #3B4455;\n",
              "      fill: #D2E3FC;\n",
              "    }\n",
              "\n",
              "    [theme=dark] .colab-df-convert:hover {\n",
              "      background-color: #434B5C;\n",
              "      box-shadow: 0px 1px 3px 1px rgba(0, 0, 0, 0.15);\n",
              "      filter: drop-shadow(0px 1px 2px rgba(0, 0, 0, 0.3));\n",
              "      fill: #FFFFFF;\n",
              "    }\n",
              "  </style>\n",
              "\n",
              "      <script>\n",
              "        const buttonEl =\n",
              "          document.querySelector('#df-79678040-1858-4b82-9503-dff4859b3a82 button.colab-df-convert');\n",
              "        buttonEl.style.display =\n",
              "          google.colab.kernel.accessAllowed ? 'block' : 'none';\n",
              "\n",
              "        async function convertToInteractive(key) {\n",
              "          const element = document.querySelector('#df-79678040-1858-4b82-9503-dff4859b3a82');\n",
              "          const dataTable =\n",
              "            await google.colab.kernel.invokeFunction('convertToInteractive',\n",
              "                                                     [key], {});\n",
              "          if (!dataTable) return;\n",
              "\n",
              "          const docLinkHtml = 'Like what you see? Visit the ' +\n",
              "            '<a target=\"_blank\" href=https://colab.research.google.com/notebooks/data_table.ipynb>data table notebook</a>'\n",
              "            + ' to learn more about interactive tables.';\n",
              "          element.innerHTML = '';\n",
              "          dataTable['output_type'] = 'display_data';\n",
              "          await google.colab.output.renderOutput(dataTable, element);\n",
              "          const docLink = document.createElement('div');\n",
              "          docLink.innerHTML = docLinkHtml;\n",
              "          element.appendChild(docLink);\n",
              "        }\n",
              "      </script>\n",
              "    </div>\n",
              "  </div>\n",
              "  "
            ]
          },
          "metadata": {},
          "execution_count": 19
        }
      ],
      "source": [
        "## Missing values per variable\n",
        "train_missing = train.isna().sum()\n",
        "train_percent_missing = round(train_missing/train.shape[0]*100, 2)\n",
        "\n",
        "test_missing = test.isna().sum()\n",
        "test_percent_missing = round(test_missing/test.shape[0]*100, 2)\n",
        "\n",
        "missing_table = pd.DataFrame(\n",
        "    {'N/A in train set' : train_missing, '% N/A in train set':train_percent_missing,\n",
        "     'N/A in test set' : test_missing, '% N/A in test set' : test_percent_missing}\n",
        "     )\n",
        "\n",
        "missing_table"
      ]
    },
    {
      "cell_type": "code",
      "source": [
        "### Missing values for each passenger\n",
        "missing_passenger = train.isna().sum(axis = 1).value_counts()\n",
        "\n",
        "print('N/A per passenger:\\n{}'.format(missing_passenger))\n",
        "print('\\n% passengers have at leats 1 missing values: {}'.format((len(train) - missing_passenger[0])/len(train) * 100))"
      ],
      "metadata": {
        "colab": {
          "base_uri": "https://localhost:8080/"
        },
        "id": "A69zVaSM0Q8h",
        "outputId": "4d98ed71-d795-47d4-ded4-104fd4ba361a"
      },
      "execution_count": null,
      "outputs": [
        {
          "output_type": "stream",
          "name": "stdout",
          "text": [
            "N/A per passenger:\n",
            "0    6606\n",
            "1    1867\n",
            "2     203\n",
            "3      17\n",
            "dtype: int64\n",
            "\n",
            "% passengers have at leats 1 missing values: 24.007822385827676\n"
          ]
        }
      ]
    },
    {
      "cell_type": "markdown",
      "metadata": {
        "id": "C7-4sF8MNJf7"
      },
      "source": [
        "Except PassengerId and Transported, all features have missing values from 2% to 2.5% in train set and from 1.8-2.5% in test set. These numbers are quite small but almost 25% of passengers have at least a missing value. Thus we should try to fill in them rather than drop them.\n",
        "<br>\n",
        "<br>\n",
        "\n",
        "2.3. Duplicates"
      ]
    },
    {
      "cell_type": "code",
      "execution_count": null,
      "metadata": {
        "colab": {
          "base_uri": "https://localhost:8080/"
        },
        "id": "41TMqYswMAtd",
        "outputId": "447d80e6-e103-41b1-a8c7-b773a25b46c5"
      },
      "outputs": [
        {
          "name": "stdout",
          "output_type": "stream",
          "text": [
            "Duplicates in dataset: 0 (0.0%)\n"
          ]
        }
      ],
      "source": [
        "print('Duplicates in dataset: {} ({}%)'.format(train.duplicated().sum(), train.duplicated().sum()/len(train)*100) )"
      ]
    },
    {
      "cell_type": "markdown",
      "metadata": {
        "id": "7y7ajBn-Qzty"
      },
      "source": [
        "2.4. Cardinality of features"
      ]
    },
    {
      "cell_type": "code",
      "execution_count": null,
      "metadata": {
        "colab": {
          "base_uri": "https://localhost:8080/"
        },
        "id": "BrgXf5KqQilA",
        "outputId": "b8cde9f3-9cbd-4262-890d-864545c99d71"
      },
      "outputs": [
        {
          "data": {
            "text/plain": [
              "PassengerId     8693\n",
              "HomePlanet         3\n",
              "CryoSleep          2\n",
              "Cabin           6560\n",
              "Destination        3\n",
              "Age               80\n",
              "VIP                2\n",
              "RoomService     1273\n",
              "FoodCourt       1507\n",
              "ShoppingMall    1115\n",
              "Spa             1327\n",
              "VRDeck          1306\n",
              "Name            8473\n",
              "Transported        2\n",
              "dtype: int64"
            ]
          },
          "execution_count": 16,
          "metadata": {},
          "output_type": "execute_result"
        }
      ],
      "source": [
        "train.nunique()"
      ]
    },
    {
      "cell_type": "markdown",
      "metadata": {
        "id": "jWi2dz3aRCwB"
      },
      "source": [
        "<br>\n",
        "<br>\n",
        "\n",
        "### <center> 3. Exploratory Data Analysis"
      ]
    },
    {
      "cell_type": "markdown",
      "source": [
        "We will plot the distributions of\n",
        "  - Target - Transported\n",
        "  - Continuous features - Age, RoomService, FoodCourt, ShoppingMall, Spa, VRDeck\n",
        "  - Categorical features - HomePlanet, CryoSleep, VIP, Destination\n",
        "  - Qualitative features - PassengerId, Cabin, Name"
      ],
      "metadata": {
        "id": "B5b2HXtmlpu9"
      }
    },
    {
      "cell_type": "markdown",
      "metadata": {
        "id": "3PY6XkreRiar"
      },
      "source": [
        "> #### 3.1. Target distribution (Transported variable)"
      ]
    },
    {
      "cell_type": "code",
      "execution_count": null,
      "metadata": {
        "colab": {
          "base_uri": "https://localhost:8080/",
          "height": 373
        },
        "id": "aAjA73kFQ5De",
        "outputId": "de92a8cc-0279-47e5-96f5-e42ee5d1f8fd"
      },
      "outputs": [
        {
          "data": {
            "image/png": "[encoded data removed]",
            "text/plain": [
              "<Figure size 432x432 with 1 Axes>"
            ]
          },
          "metadata": {},
          "output_type": "display_data"
        }
      ],
      "source": [
        "targets = train['Transported'].value_counts()\n",
        "\n",
        "# Pie plot\n",
        "fig, ax = plt.subplots(figsize = (6,6))\n",
        "ax.pie(targets, labels = targets.index, explode = [0.05, 0.05], autopct='%1.1f%%', shadow = True)\n",
        "plt.title('TARGET DISTRIBUTION')\n",
        "plt.show()"
      ]
    },
    {
      "cell_type": "markdown",
      "source": [
        "Basically, the possibility of getting transported and no transported to other dimensions is approximately 50-50%"
      ],
      "metadata": {
        "id": "A5iJYdkWAoP7"
      }
    },
    {
      "cell_type": "markdown",
      "metadata": {
        "id": "cBtqyk52W4Q7"
      },
      "source": [
        "> #### 3.2. Continuous Features\n",
        "Continuous features include \n",
        "  - 3.2.1. Age \n",
        "  - 3.2.2. Extra services - RoomService, FoodCourt, ShoppingMall, Spa, VRDeck\n",
        "\n",
        "> We will plot histograms for these feature to evaluate the connection of these variable and the frequency of transported targets.\n",
        "\n",
        "<br>\n",
        "\n",
        "> > 3.2.1. AGE\n",
        "\n",
        "First of all, we plot the histogram of passengers' ages to estimate the likelihood of the transported possibilities and divide the data into groups"
      ]
    },
    {
      "cell_type": "code",
      "execution_count": null,
      "metadata": {
        "colab": {
          "base_uri": "https://localhost:8080/",
          "height": 404
        },
        "id": "ZKvmabaVSgwu",
        "outputId": "f2e8e65c-3ce1-404b-d195-540f402d8f2c"
      },
      "outputs": [
        {
          "data": {
            "image/png": "[encoded data removed]",
            "text/plain": [
              "<Figure size 1080x432 with 1 Axes>"
            ]
          },
          "metadata": {},
          "output_type": "display_data"
        }
      ],
      "source": [
        "plt.figure(figsize = (15, 6))\n",
        "sns.histplot(data = train, x = 'Age', hue = 'Transported', kde = True, binwidth = 1)\n",
        "sns.despine(bottom = False, left = False)\n",
        "plt.xlabel('Age')\n",
        "plt.title('AGE DISTRIBUTION')\n",
        "plt.show()"
      ]
    },
    {
      "cell_type": "markdown",
      "metadata": {
        "id": "blwrXi1WZj-0"
      },
      "source": [
        "From the age histogram, we can see that:\n",
        "  - From 0-18 years-old, passergers are more likely to be trasported to other dimnesions.\n",
        "  - From 18-40 years-old, passergers are less likely to be transported successfully.\n",
        "  - Over 40 years-old, the possibilities of success and non-success seem equal.\n",
        "\n",
        "Therefore, we can divide Age into 3 groups: young, middle, old"
      ]
    },
    {
      "cell_type": "markdown",
      "metadata": {
        "id": "-EfuZKKAK2oR"
      },
      "source": [
        "> > 3.2.2. EXTRA SERVICES"
      ]
    },
    {
      "cell_type": "code",
      "execution_count": null,
      "metadata": {
        "colab": {
          "base_uri": "https://localhost:8080/",
          "height": 520
        },
        "id": "vi4eWCRlZMgz",
        "outputId": "244c4e51-4c05-4af1-f21f-0314f2d8c336"
      },
      "outputs": [
        {
          "output_type": "execute_result",
          "data": {
            "text/plain": [
              "<function matplotlib.pyplot.show>"
            ]
          },
          "metadata": {},
          "execution_count": 33
        },
        {
          "output_type": "display_data",
          "data": {
            "text/plain": [
              "<Figure size 1296x576 with 5 Axes>"
            ],
            "image/png": "[encoded data removed]"
          },
          "metadata": {
            "needs_background": "light"
          }
        }
      ],
      "source": [
        "extra_services = ['RoomService', 'FoodCourt', 'ShoppingMall', 'Spa', 'VRDeck']\n",
        "\n",
        "# Plots\n",
        "fig = plt.figure(figsize = (18, 8))\n",
        "nrows = 2\n",
        "ncols = 3\n",
        "\n",
        "for i, service in enumerate(extra_services):\n",
        "\n",
        "  fig.add_subplot(nrows, ncols, i+1)\n",
        "  ax = sns.histplot(data = train, x = service, hue = 'Transported', kde=False, bins = 30)\n",
        "  sns.despine(bottom = False, right = 'False')\n",
        "  ax.set(xlabel = service, title = service.upper() + ' DISTRIBUTION')\n",
        "\n",
        "plt.subplots_adjust(hspace=0.4)  ## Adjust the distance between plots in rows\n",
        "plt.show"
      ]
    },
    {
      "cell_type": "markdown",
      "source": [
        "There are some notes:\n",
        "\n",
        "  - Most passagers do not spend on extra services\n",
        "  - The distribution decays exponentially\n",
        "  - The target distribution of RoomService, Spa and VRDeck is different from the one of FoodCourt and ShoppingMall. Probably the luxury services and necessary services.\n",
        "  - In luxury services, those whose do not pay are more likely to be transported. While it is reverse in necessary services.\n",
        "  - There are a small number of outliers\n",
        "\n",
        "Suggestions:\n",
        "  - Create new feature to track the expenditure amount in luxury and necessary services: no-spend and spend"
      ],
      "metadata": {
        "id": "9yrzPN-fW3cL"
      }
    },
    {
      "cell_type": "code",
      "source": [
        "### Let's take a look at the luxury_services\n",
        "luxury_services = ['RoomService', 'Spa', 'VRDeck']\n",
        "train['LuxuryServices'] = train[extra_services].sum(axis = 1)\n",
        "### If we seperate the extra_services values into 2 categories: 0 and 1 which is 0 is no pay\n",
        "train.loc[train['LuxuryServices'] == 0, 'LuxuryExpense'] = 'No-paid'\n",
        "train.loc[train['LuxuryServices'] != 0, 'LuxuryExpense'] = 'Paid'\n",
        "\n",
        "\n",
        "### Similarly, let's take a look at the necessary_services\n",
        "necessary_services = ['FoodCourt', 'ShoppingMall']\n",
        "train['NecessaryServices'] = train[necessary_services].sum(axis = 1)\n",
        "### If we seperate the necessary_services values into 2 categories: 0 and 1 which is 0 is no pay\n",
        "train.loc[train['NecessaryServices'] <= 1000, 'NecessaryExpense'] = 'No-paid'\n",
        "train.loc[train['NecessaryServices'] != 0, 'NecessaryExpense'] = 'Paid'"
      ],
      "metadata": {
        "id": "4gl5qHrTkjqC"
      },
      "execution_count": null,
      "outputs": []
    },
    {
      "cell_type": "code",
      "source": [
        "### Plot\n",
        "figures = plt.figure(figsize = (16, 6))\n",
        "\n",
        "ax1 = figures.add_subplot(1, 2, 1)\n",
        "sns.countplot(data = train, x = 'LuxuryExpense', hue = 'Transported')\n",
        "sns.despine(bottom = False, left = False)\n",
        "ax1.set(title = 'Luxury Expense Distribution')\n",
        "\n",
        "\n",
        "ax2 = figures.add_subplot(1, 2, 2)\n",
        "sns.countplot(data = train, x = 'NecessaryExpense', hue = 'Transported')\n",
        "sns.despine(bottom = False, left = False)\n",
        "plt.title('Necessary Expense Distribution')\n",
        "\n",
        "plt.show()"
      ],
      "metadata": {
        "colab": {
          "base_uri": "https://localhost:8080/",
          "height": 404
        },
        "id": "Juc6mcIbrU88",
        "outputId": "41125f71-0686-481b-d498-20ca7d73d190"
      },
      "execution_count": null,
      "outputs": [
        {
          "output_type": "display_data",
          "data": {
            "text/plain": [
              "<Figure size 1152x432 with 2 Axes>"
            ],
            "image/png": "[encoded data removed]"
          },
          "metadata": {
            "needs_background": "light"
          }
        }
      ]
    },
    {
      "cell_type": "markdown",
      "source": [
        "The distribution of LuxuryExpense and NecessaryExpense is similar. That means passengers who do not pay for extra services are more likely to be transported while those who pay for at least a product are less likely to be transported to other dimensions.\n",
        "\n",
        "Thus, we combine 2 type of services into 1 feature named Expenditure"
      ],
      "metadata": {
        "id": "3rsz3_fispEr"
      }
    },
    {
      "cell_type": "code",
      "source": [
        "extra_services = ['RoomService', 'FoodCourt', 'ShoppingMall', 'Spa', 'VRDeck']\n",
        "train['ExtraService'] = train[extra_services].sum(axis = 1)\n",
        "train['Expenditure'] = (train['ExtraServices'] != 0).astype(int)\n",
        "train.drop(columns = ['LuxuryServices', 'LuxuryExpense', 'NecessaryExpense', 'NecessaryServices'], inplace = True)\n"
      ],
      "metadata": {
        "id": "iXzz2KudtZj-"
      },
      "execution_count": null,
      "outputs": []
    },
    {
      "cell_type": "markdown",
      "source": [
        "> #### 3.3. Categorical Features\n",
        "\n",
        "Categorical variables include HomePlanet, CryoSleep, Destination and VIP. Similar to continuous features, we plot the number of True/False target for each feature."
      ],
      "metadata": {
        "id": "Fju-BQ3IBssZ"
      }
    },
    {
      "cell_type": "code",
      "execution_count": null,
      "metadata": {
        "id": "TdFvpQhaOIse",
        "colab": {
          "base_uri": "https://localhost:8080/",
          "height": 513
        },
        "outputId": "b556e043-d57d-4d3a-a610-ceab3f7fb5ec"
      },
      "outputs": [
        {
          "output_type": "display_data",
          "data": {
            "text/plain": [
              "<Figure size 1008x576 with 4 Axes>"
            ],
            "image/png": "[encoded data removed]"
          },
          "metadata": {
            "needs_background": "light"
          }
        }
      ],
      "source": [
        "categories = ['HomePlanet', 'CryoSleep', 'Destination', 'VIP']\n",
        "\n",
        "## Count plot\n",
        "fig = plt.figure(figsize = (14, 8))\n",
        "nrows = 2\n",
        "ncols = 2\n",
        "\n",
        "for i, category in enumerate(categories):\n",
        "\n",
        "  ax = fig.add_subplot(nrows, ncols, i+1)\n",
        "  sns.countplot(data = train, x = category, hue = 'Transported', )\n",
        "  ax.set_title(category + ' Distribution')\n",
        "  sns.despine(bottom = False, left = False)\n",
        "\n",
        "plt.subplots_adjust(hspace= 0.4)\n",
        "plt.show()"
      ]
    },
    {
      "cell_type": "markdown",
      "source": [
        "Some insights:\n",
        "  - VIP feature does not give useful information as the rate of True and False is approximate.\n",
        "  - CryoSleep should be a essential variable"
      ],
      "metadata": {
        "id": "NDslIglUI2n6"
      }
    },
    {
      "cell_type": "markdown",
      "source": [
        "> #### 3.4. Qualitative Features\n",
        "\n",
        "Qualitative variables include PassengerID, Cabin and Name. Unfortunately, we cannot plot it directly because it combines many infomation per entry. We need to transform them to collect necessary data.\n",
        "  - 3.4.1. PassengerId\n",
        "  - 3.4.2. Cabin\n",
        "  - 3.4.3. Name"
      ],
      "metadata": {
        "id": "zv_pwkUMJ5ke"
      }
    },
    {
      "cell_type": "code",
      "source": [
        "train.loc[:, ['PassengerId', 'Cabin', 'Name']].head(10)"
      ],
      "metadata": {
        "colab": {
          "base_uri": "https://localhost:8080/",
          "height": 363
        },
        "id": "x3JksEuGQ4m6",
        "outputId": "fa94bb96-f698-4b9f-db6b-121e95b8eb0e"
      },
      "execution_count": null,
      "outputs": [
        {
          "output_type": "execute_result",
          "data": {
            "text/plain": [
              "  PassengerId  Cabin                Name\n",
              "0     0001_01  B/0/P     Maham Ofracculy\n",
              "1     0002_01  F/0/S        Juanna Vines\n",
              "2     0003_01  A/0/S       Altark Susent\n",
              "3     0003_02  A/0/S        Solam Susent\n",
              "4     0004_01  F/1/S   Willy Santantines\n",
              "5     0005_01  F/0/P   Sandie Hinetthews\n",
              "6     0006_01  F/2/S  Billex Jacostaffey\n",
              "7     0006_02  G/0/S  Candra Jacostaffey\n",
              "8     0007_01  F/3/S       Andona Beston\n",
              "9     0008_01  B/1/P      Erraiam Flatic"
            ],
            "text/html": [
              "\n",
              "  <div id=\"df-0178b4bc-dc1f-4774-bcc7-536c6645fe5a\">\n",
              "    <div class=\"colab-df-container\">\n",
              "      <div>\n",
              "<style scoped>\n",
              "    .dataframe tbody tr th:only-of-type {\n",
              "        vertical-align: middle;\n",
              "    }\n",
              "\n",
              "    .dataframe tbody tr th {\n",
              "        vertical-align: top;\n",
              "    }\n",
              "\n",
              "    .dataframe thead th {\n",
              "        text-align: right;\n",
              "    }\n",
              "</style>\n",
              "<table border=\"1\" class=\"dataframe\">\n",
              "  <thead>\n",
              "    <tr style=\"text-align: right;\">\n",
              "      <th></th>\n",
              "      <th>PassengerId</th>\n",
              "      <th>Cabin</th>\n",
              "      <th>Name</th>\n",
              "    </tr>\n",
              "  </thead>\n",
              "  <tbody>\n",
              "    <tr>\n",
              "      <th>0</th>\n",
              "      <td>0001_01</td>\n",
              "      <td>B/0/P</td>\n",
              "      <td>Maham Ofracculy</td>\n",
              "    </tr>\n",
              "    <tr>\n",
              "      <th>1</th>\n",
              "      <td>0002_01</td>\n",
              "      <td>F/0/S</td>\n",
              "      <td>Juanna Vines</td>\n",
              "    </tr>\n",
              "    <tr>\n",
              "      <th>2</th>\n",
              "      <td>0003_01</td>\n",
              "      <td>A/0/S</td>\n",
              "      <td>Altark Susent</td>\n",
              "    </tr>\n",
              "    <tr>\n",
              "      <th>3</th>\n",
              "      <td>0003_02</td>\n",
              "      <td>A/0/S</td>\n",
              "      <td>Solam Susent</td>\n",
              "    </tr>\n",
              "    <tr>\n",
              "      <th>4</th>\n",
              "      <td>0004_01</td>\n",
              "      <td>F/1/S</td>\n",
              "      <td>Willy Santantines</td>\n",
              "    </tr>\n",
              "    <tr>\n",
              "      <th>5</th>\n",
              "      <td>0005_01</td>\n",
              "      <td>F/0/P</td>\n",
              "      <td>Sandie Hinetthews</td>\n",
              "    </tr>\n",
              "    <tr>\n",
              "      <th>6</th>\n",
              "      <td>0006_01</td>\n",
              "      <td>F/2/S</td>\n",
              "      <td>Billex Jacostaffey</td>\n",
              "    </tr>\n",
              "    <tr>\n",
              "      <th>7</th>\n",
              "      <td>0006_02</td>\n",
              "      <td>G/0/S</td>\n",
              "      <td>Candra Jacostaffey</td>\n",
              "    </tr>\n",
              "    <tr>\n",
              "      <th>8</th>\n",
              "      <td>0007_01</td>\n",
              "      <td>F/3/S</td>\n",
              "      <td>Andona Beston</td>\n",
              "    </tr>\n",
              "    <tr>\n",
              "      <th>9</th>\n",
              "      <td>0008_01</td>\n",
              "      <td>B/1/P</td>\n",
              "      <td>Erraiam Flatic</td>\n",
              "    </tr>\n",
              "  </tbody>\n",
              "</table>\n",
              "</div>\n",
              "      <button class=\"colab-df-convert\" onclick=\"convertToInteractive('df-0178b4bc-dc1f-4774-bcc7-536c6645fe5a')\"\n",
              "              title=\"Convert this dataframe to an interactive table.\"\n",
              "              style=\"display:none;\">\n",
              "        \n",
              "  <svg xmlns=\"http://www.w3.org/2000/svg\" height=\"24px\"viewBox=\"0 0 24 24\"\n",
              "       width=\"24px\">\n",
              "    <path d=\"M0 0h24v24H0V0z\" fill=\"none\"/>\n",
              "    <path d=\"M18.56 5.44l.94 2.06.94-2.06 2.06-.94-2.06-.94-.94-2.06-.94 2.06-2.06.94zm-11 1L8.5 8.5l.94-2.06 2.06-.94-2.06-.94L8.5 2.5l-.94 2.06-2.06.94zm10 10l.94 2.06.94-2.06 2.06-.94-2.06-.94-.94-2.06-.94 2.06-2.06.94z\"/><path d=\"M17.41 7.96l-1.37-1.37c-.4-.4-.92-.59-1.43-.59-.52 0-1.04.2-1.43.59L10.3 9.45l-7.72 7.72c-.78.78-.78 2.05 0 2.83L4 21.41c.39.39.9.59 1.41.59.51 0 1.02-.2 1.41-.59l7.78-7.78 2.81-2.81c.8-.78.8-2.07 0-2.86zM5.41 20L4 18.59l7.72-7.72 1.47 1.35L5.41 20z\"/>\n",
              "  </svg>\n",
              "      </button>\n",
              "      \n",
              "  <style>\n",
              "    .colab-df-container {\n",
              "      display:flex;\n",
              "      flex-wrap:wrap;\n",
              "      gap: 12px;\n",
              "    }\n",
              "\n",
              "    .colab-df-convert {\n",
              "      background-color: #E8F0FE;\n",
              "      border: none;\n",
              "      border-radius: 50%;\n",
              "      cursor: pointer;\n",
              "      display: none;\n",
              "      fill: #1967D2;\n",
              "      height: 32px;\n",
              "      padding: 0 0 0 0;\n",
              "      width: 32px;\n",
              "    }\n",
              "\n",
              "    .colab-df-convert:hover {\n",
              "      background-color: #E2EBFA;\n",
              "      box-shadow: 0px 1px 2px rgba(60, 64, 67, 0.3), 0px 1px 3px 1px rgba(60, 64, 67, 0.15);\n",
              "      fill: #174EA6;\n",
              "    }\n",
              "\n",
              "    [theme=dark] .colab-df-convert {\n",
              "      background-color: #3B4455;\n",
              "      fill: #D2E3FC;\n",
              "    }\n",
              "\n",
              "    [theme=dark] .colab-df-convert:hover {\n",
              "      background-color: #434B5C;\n",
              "      box-shadow: 0px 1px 3px 1px rgba(0, 0, 0, 0.15);\n",
              "      filter: drop-shadow(0px 1px 2px rgba(0, 0, 0, 0.3));\n",
              "      fill: #FFFFFF;\n",
              "    }\n",
              "  </style>\n",
              "\n",
              "      <script>\n",
              "        const buttonEl =\n",
              "          document.querySelector('#df-0178b4bc-dc1f-4774-bcc7-536c6645fe5a button.colab-df-convert');\n",
              "        buttonEl.style.display =\n",
              "          google.colab.kernel.accessAllowed ? 'block' : 'none';\n",
              "\n",
              "        async function convertToInteractive(key) {\n",
              "          const element = document.querySelector('#df-0178b4bc-dc1f-4774-bcc7-536c6645fe5a');\n",
              "          const dataTable =\n",
              "            await google.colab.kernel.invokeFunction('convertToInteractive',\n",
              "                                                     [key], {});\n",
              "          if (!dataTable) return;\n",
              "\n",
              "          const docLinkHtml = 'Like what you see? Visit the ' +\n",
              "            '<a target=\"_blank\" href=https://colab.research.google.com/notebooks/data_table.ipynb>data table notebook</a>'\n",
              "            + ' to learn more about interactive tables.';\n",
              "          element.innerHTML = '';\n",
              "          dataTable['output_type'] = 'display_data';\n",
              "          await google.colab.output.renderOutput(dataTable, element);\n",
              "          const docLink = document.createElement('div');\n",
              "          docLink.innerHTML = docLinkHtml;\n",
              "          element.appendChild(docLink);\n",
              "        }\n",
              "      </script>\n",
              "    </div>\n",
              "  </div>\n",
              "  "
            ]
          },
          "metadata": {},
          "execution_count": 16
        }
      ]
    },
    {
      "cell_type": "markdown",
      "source": [
        "Some insights:\n",
        "  - PassengerId: the 4 first letters indicate the ID group and the last 2 letters indicate the number of people in the group, usually in a family, we can see the similar surname.\n",
        "  "
      ],
      "metadata": {
        "id": "-qPFpKDiLr_V"
      }
    },
    {
      "cell_type": "markdown",
      "source": [
        "> > 3.4.1. PassengerId\n",
        "\n",
        "The Group ID (the first 4 letters) may not have any influences on the target possibility, however the group size might have some insights. I will divide this feature into 'Alone' if the passerger travels alone and 'In group' if there are at least 2 members in a group."
      ],
      "metadata": {
        "id": "rf4RBmoCmbrU"
      }
    },
    {
      "cell_type": "code",
      "source": [
        "### Extract the group ID\n",
        "train['GroupID'] = train['PassengerId'].apply(lambda x: x.split('_')[0]).astype(int)\n",
        "test['GroupID'] = test['PassengerId'].apply(lambda x: x.split('_')[0]).astype(int)\n",
        "\n",
        "### Extract group size\n",
        "df = pd.concat([train['GroupID'], test['GroupID']])  # Need to combine all data to determine the group size\n",
        "group_size = df.value_counts()      # Get number of memnbers for each GroupID\n",
        "train['GroupSize'] = train['GroupID'].map(lambda x: group_size[x])\n",
        "test['GroupSize'] = test['GroupID'].map(lambda x: group_size[x])\n",
        "  \n",
        "# You can write the nested function as below, but I found it spent more time to run\n",
        "# train['GroupSize'] = train['GroupID'].map(lambda x: \n",
        "#                                           pd.concat([train['GroupID'], test['GroupID']]).value_counts()[x]\n",
        "#                                           )\n",
        "\n",
        "\n",
        "### Extract whether passenger travel in person or in group, 1 - in person, 0 - in group\n",
        "train['InPerson'] = (train['GroupSize'] == 1).astype(int) \n",
        "test['InPerson'] = (test['GroupSize'] == 1).astype(int)\n"
      ],
      "metadata": {
        "id": "k2yFaCmYmhrd"
      },
      "execution_count": null,
      "outputs": []
    },
    {
      "cell_type": "code",
      "source": [
        "### Plot GroupSize distribution\n",
        "figures = plt.figure(figsize = (16, 6))\n",
        "ax1 = figures.add_subplot(1, 2, 1)\n",
        "sns.countplot(data = train, x = 'GroupSize', hue = 'Transported')\n",
        "sns.despine(bottom = False, left = False)\n",
        "ax1.set_title('Group Size Distribution')\n",
        "\n",
        "### Plot In person/ in group travelers\n",
        "ax2 = figures.add_subplot(1, 2, 2)\n",
        "sns.countplot(data = train, x = 'InPerson', hue = 'Transported', order = [0, 1])\n",
        "sns.despine(bottom = False, left = False)\n",
        "ax2.set_title('Travel in person or in group')\n",
        "ax2.set_xticklabels(['In Group', 'In Person'])\n",
        "ax2.set(xlabel = None)\n",
        "\n",
        "plt.show()"
      ],
      "metadata": {
        "colab": {
          "base_uri": "https://localhost:8080/",
          "height": 404
        },
        "id": "v7--j9xngu70",
        "outputId": "89c4737e-96dd-4881-fe49-52c0fb513daf"
      },
      "execution_count": null,
      "outputs": [
        {
          "output_type": "display_data",
          "data": {
            "text/plain": [
              "<Figure size 1152x432 with 2 Axes>"
            ],
            "image/png": "[encoded data removed]"
          },
          "metadata": {
            "needs_background": "light"
          }
        }
      ]
    },
    {
      "cell_type": "markdown",
      "source": [
        "<br>\n",
        "<br>\n",
        "\n",
        "\n",
        "> > 3.4.2. Cabin"
      ],
      "metadata": {
        "id": "EKVFKMvrr3B1"
      }
    },
    {
      "cell_type": "code",
      "source": [
        "### Because Cabin has missing values, we firsly fill in them by the correct format to extract the useful information\n",
        "train['Cabin'].fillna('Z/9999/Z', inplace = True)\n",
        "test['Cabin'].fillna('Z/9999/Z', inplace = True)\n",
        "\n",
        "### Extract desk, number and side\n",
        "train['CabinDeck'] = train['Cabin'].apply(lambda x: x.split('/')[0])\n",
        "train['CabinNumber'] = train['Cabin'].apply(lambda x: x.split('/')[1]).astype(int)\n",
        "train['CabinSide'] = train['Cabin'].apply(lambda x: x.split('/')[2])\n",
        "\n",
        "test['CabinDeck'] = test['Cabin'].apply(lambda x: x.split('/')[0])\n",
        "test['CabinNumber'] = test['Cabin'].apply(lambda x: x.split('/')[1]).astype(int)\n",
        "test['CabinSide'] = test['Cabin'].apply(lambda x: x.split('/')[2])\n",
        "\n",
        "### Return missing entries\n",
        "train.loc[train['Cabin'] == 'Z/9999/Z', 'Cabin'] = None\n",
        "train.loc[train['CabinDeck'] == 'Z', 'CabinDeck'] = None\n",
        "train.loc[train['CabinNumber'] == 9999, 'CabinNumber'] = np.nan\n",
        "train.loc[train['CabinSide'] == 'Z', 'CabinSide'] = None\n",
        "\n",
        "test.loc[test['Cabin'] == 'Z/9999/Z', 'Cabin'] = None\n",
        "test.loc[test['CabinDeck'] == 'Z', 'CabinDeck'] = None\n",
        "test.loc[test['CabinNumber'] == 9999, 'CabinNumber'] = np.nan\n",
        "test.loc[test['CabinSide'] == 'Z', 'CabinSide'] = None\n",
        "\n"
      ],
      "metadata": {
        "id": "ZzNltmyDt4Xe"
      },
      "execution_count": null,
      "outputs": []
    },
    {
      "cell_type": "code",
      "source": [
        "### Plot Cabin desk, Cabin number, Cabin side distribution\n",
        "figures = plt.figure(figsize = (10, 12))\n",
        "\n",
        "ax1 = figures.add_subplot(3, 1, 1)\n",
        "sns.countplot(data = train, x = 'CabinDeck', hue = 'Transported', order = ['A', 'B', 'C', 'D', 'E', 'F', 'G', 'T'])\n",
        "sns.despine(bottom = False, left = False)\n",
        "ax1.set(title = 'Cabin Deck Distribution')\n",
        "\n",
        "ax2 = figures.add_subplot(3, 1, 2)\n",
        "sns.histplot(data = train, x = 'CabinNumber', hue = 'Transported', binwidth = 20)\n",
        "ax2.vlines(300, ymin =0, ymax = 180, color = 'black', linestyles = 'dashed')\n",
        "ax2.vlines(600, ymin =0, ymax = 180, color = 'black', linestyles = 'dashed')\n",
        "ax2.vlines(900, ymin =0, ymax = 180, color = 'black', linestyles = 'dashed')\n",
        "ax2.vlines(1200, ymin =0, ymax = 180, color = 'black', linestyles = 'dashed')\n",
        "ax2.vlines(1500, ymin =0, ymax = 180, color = 'black', linestyles = 'dashed')\n",
        "ax2.vlines(1800, ymin =0, ymax = 180, color = 'black', linestyles = 'dashed')\n",
        "ax2.set(xlim = [0, 2000])\n",
        "ax2.set(title = 'Cabin Number Distribution')\n",
        "sns.despine(bottom = False, left = False)\n",
        "\n",
        "ax3 = figures.add_subplot(3, 1, 3)\n",
        "sns.countplot(data = train, x = 'CabinSide', hue = 'Transported', order = ['P', 'S'])\n",
        "ax3.set(title = 'Cabin Side Distribution')\n",
        "ax3.set(xticklabels = ['Port', 'Star Board'])\n",
        "\n",
        "plt.subplots_adjust(hspace = 0.4)\n",
        "plt.show()\n"
      ],
      "metadata": {
        "colab": {
          "base_uri": "https://localhost:8080/",
          "height": 730
        },
        "id": "M3_wThP3viW7",
        "outputId": "eb01b5b9-81ad-4aff-a999-cbac017f03e1"
      },
      "execution_count": null,
      "outputs": [
        {
          "output_type": "display_data",
          "data": {
            "text/plain": [
              "<Figure size 720x864 with 3 Axes>"
            ],
            "image/png": "[encoded data removed]"
          },
          "metadata": {
            "needs_background": "light"
          }
        }
      ]
    },
    {
      "cell_type": "markdown",
      "source": [
        "There are about 2000 cabin numbers but the interesting thing is that a chunk of 300 cabins has the similar trend, eg. the first group is more likely be transported while the second group inclines no-transported possibility. Therefore, we can group the cabin number into 7 groups like in the graph.\n",
        "\n",
        "The T deck is an outliner with only 5 samples"
      ],
      "metadata": {
        "id": "ANTO3nGKeD-E"
      }
    },
    {
      "cell_type": "markdown",
      "source": [
        "<br>\n",
        "<br>\n",
        "\n",
        "> > 3.4.3. Name\n",
        "\n",
        "  - Extract names and surnames"
      ],
      "metadata": {
        "id": "vxgiKLJufmsj"
      }
    },
    {
      "cell_type": "code",
      "source": [
        "### Filling the missing entries to split names\n",
        "train['Name'].fillna('Name Surname', inplace = True)\n",
        "test['Name'].fillna('Name Surname', inplace = True)\n",
        "\n",
        "\n",
        "### Split names and surnames\n",
        "train['Surname'] = train['Name'].apply(lambda x: x.split()[-1])\n",
        "test['Surname'] = test['Name'].apply(lambda x: x.split()[-1])\n",
        "\n",
        "### Return missing entries\n",
        "train.loc[train['Surname'] == 'Surname', 'Surname'] = None\n",
        "test.loc[test['Surname'] == 'Surname', 'Surname'] = None"
      ],
      "metadata": {
        "id": "wpxiRzFQzokj"
      },
      "execution_count": null,
      "outputs": []
    },
    {
      "cell_type": "markdown",
      "source": [
        "I do not think the name has any effects on the transported possibility but it might be useful to determine the missing values in Destination or HomePlanet.\n",
        "\n",
        "<br>\n",
        "\n",
        "We will save the transformed data."
      ],
      "metadata": {
        "id": "k3e5bSRGkMFq"
      }
    },
    {
      "cell_type": "code",
      "source": [
        "train.to_csv('train_transform.csv', index = False)\n",
        "files.download('train_transform.csv')"
      ],
      "metadata": {
        "id": "AHECWhEnlhQl",
        "colab": {
          "base_uri": "https://localhost:8080/",
          "height": 17
        },
        "outputId": "82da7f4a-1be5-44c6-a691-64ccfafb55e7"
      },
      "execution_count": null,
      "outputs": [
        {
          "output_type": "display_data",
          "data": {
            "text/plain": [
              "<IPython.core.display.Javascript object>"
            ],
            "application/javascript": [
              "\n",
              "    async function download(id, filename, size) {\n",
              "      if (!google.colab.kernel.accessAllowed) {\n",
              "        return;\n",
              "      }\n",
              "      const div = document.createElement('div');\n",
              "      const label = document.createElement('label');\n",
              "      label.textContent = `Downloading \"${filename}\": `;\n",
              "      div.appendChild(label);\n",
              "      const progress = document.createElement('progress');\n",
              "      progress.max = size;\n",
              "      div.appendChild(progress);\n",
              "      document.body.appendChild(div);\n",
              "\n",
              "      const buffers = [];\n",
              "      let downloaded = 0;\n",
              "\n",
              "      const channel = await google.colab.kernel.comms.open(id);\n",
              "      // Send a message to notify the kernel that we're ready.\n",
              "      channel.send({})\n",
              "\n",
              "      for await (const message of channel.messages) {\n",
              "        // Send a message to notify the kernel that we're ready.\n",
              "        channel.send({})\n",
              "        if (message.buffers) {\n",
              "          for (const buffer of message.buffers) {\n",
              "            buffers.push(buffer);\n",
              "            downloaded += buffer.byteLength;\n",
              "            progress.value = downloaded;\n",
              "          }\n",
              "        }\n",
              "      }\n",
              "      const blob = new Blob(buffers, {type: 'application/binary'});\n",
              "      const a = document.createElement('a');\n",
              "      a.href = window.URL.createObjectURL(blob);\n",
              "      a.download = filename;\n",
              "      div.appendChild(a);\n",
              "      a.click();\n",
              "      div.remove();\n",
              "    }\n",
              "  "
            ]
          },
          "metadata": {}
        },
        {
          "output_type": "display_data",
          "data": {
            "text/plain": [
              "<IPython.core.display.Javascript object>"
            ],
            "application/javascript": [
              "download(\"download_d6cc3670-587d-422a-bf89-78c185f1bfd8\", \"train_transform.csv\", 1044404)"
            ]
          },
          "metadata": {}
        }
      ]
    },
    {
      "cell_type": "code",
      "source": [
        "test.to_csv('test_transform.csv', index = False)\n",
        "files.download('test_transform.csv')"
      ],
      "metadata": {
        "colab": {
          "base_uri": "https://localhost:8080/",
          "height": 17
        },
        "id": "SOpx-bYOlgSf",
        "outputId": "313ccf5a-7a09-4d6d-c6be-28274e34848a"
      },
      "execution_count": null,
      "outputs": [
        {
          "output_type": "display_data",
          "data": {
            "text/plain": [
              "<IPython.core.display.Javascript object>"
            ],
            "application/javascript": [
              "\n",
              "    async function download(id, filename, size) {\n",
              "      if (!google.colab.kernel.accessAllowed) {\n",
              "        return;\n",
              "      }\n",
              "      const div = document.createElement('div');\n",
              "      const label = document.createElement('label');\n",
              "      label.textContent = `Downloading \"${filename}\": `;\n",
              "      div.appendChild(label);\n",
              "      const progress = document.createElement('progress');\n",
              "      progress.max = size;\n",
              "      div.appendChild(progress);\n",
              "      document.body.appendChild(div);\n",
              "\n",
              "      const buffers = [];\n",
              "      let downloaded = 0;\n",
              "\n",
              "      const channel = await google.colab.kernel.comms.open(id);\n",
              "      // Send a message to notify the kernel that we're ready.\n",
              "      channel.send({})\n",
              "\n",
              "      for await (const message of channel.messages) {\n",
              "        // Send a message to notify the kernel that we're ready.\n",
              "        channel.send({})\n",
              "        if (message.buffers) {\n",
              "          for (const buffer of message.buffers) {\n",
              "            buffers.push(buffer);\n",
              "            downloaded += buffer.byteLength;\n",
              "            progress.value = downloaded;\n",
              "          }\n",
              "        }\n",
              "      }\n",
              "      const blob = new Blob(buffers, {type: 'application/binary'});\n",
              "      const a = document.createElement('a');\n",
              "      a.href = window.URL.createObjectURL(blob);\n",
              "      a.download = filename;\n",
              "      div.appendChild(a);\n",
              "      a.click();\n",
              "      div.remove();\n",
              "    }\n",
              "  "
            ]
          },
          "metadata": {}
        },
        {
          "output_type": "display_data",
          "data": {
            "text/plain": [
              "<IPython.core.display.Javascript object>"
            ],
            "application/javascript": [
              "download(\"download_37fb0ab1-0f0a-495d-9ae2-23fd1142fece\", \"test_transform.csv\", 488969)"
            ]
          },
          "metadata": {}
        }
      ]
    },
    {
      "cell_type": "code",
      "source": [],
      "metadata": {
        "id": "ApKv3c7Lm-Sc"
      },
      "execution_count": null,
      "outputs": []
    }
  ],
  "metadata": {
    "colab": {
      "collapsed_sections": [],
      "provenance": []
    },
    "kernelspec": {
      "display_name": "Python 3",
      "name": "python3"
    },
    "language_info": {
      "name": "python"
    }
  },
  "nbformat": 4,
  "nbformat_minor": 0
}